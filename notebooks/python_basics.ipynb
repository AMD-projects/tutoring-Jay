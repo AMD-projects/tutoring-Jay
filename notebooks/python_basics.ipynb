{
 "cells": [
  {
   "cell_type": "markdown",
   "id": "4b1c026c",
   "metadata": {},
   "source": [
    "# Introduction to Python\n",
    "This Notebook will serve as an introduction to Python programming language. \n",
    "This notebook is used to supplement my tutoring lessons, and enable students to start using Python is a responsive environment in which you can directly see the results of your code. Please make use of the below link to persue further information as this Notebook is by no means comprehensive.\n",
    "\n",
    "For comprehensive infromation regarding all elements of Python please visit: https://www.w3schools.com/python/python_intro.asp \n",
    "\n",
    "Please note, the creation of this notebook was aided by the use of ChatGPT3, and my own modifications to the suggestions, and my personal experience and knowledge."
   ]
  },
  {
   "cell_type": "markdown",
   "id": "3eb161be",
   "metadata": {},
   "source": [
    "### Contents\n",
    "- Python Basics\n",
    "- Control structures\n",
    "- Data structures\n",
    "- Input/Output\n",
    "- Object Oriented Programming (OOP)\n",
    "- Libraries\n",
    "- Clean Code Practices\n",
    "- Projects"
   ]
  },
  {
   "cell_type": "markdown",
   "id": "b91d8043",
   "metadata": {},
   "source": [
    "## Python Basics\n",
    "- **Basic datatypes**\n",
    "- **Variables**\n",
    "- **Operators**"
   ]
  },
  {
   "cell_type": "markdown",
   "id": "3fe74c24",
   "metadata": {},
   "source": [
    "#### Variables\n",
    "Variables are used to store data values. To create a variable, you simply give it a name and assign it a value using the = operator. For example"
   ]
  },
  {
   "cell_type": "code",
   "execution_count": 3,
   "id": "8d344b27",
   "metadata": {},
   "outputs": [],
   "source": [
    "x = 10"
   ]
  },
  {
   "cell_type": "markdown",
   "id": "e8e6a3ee",
   "metadata": {},
   "source": [
    "In the above, x is the variable name, and the value assigned to is is 10."
   ]
  },
  {
   "cell_type": "markdown",
   "id": "5f9e7934",
   "metadata": {},
   "source": [
    "#### Operators\n",
    " Operators are used to perform operations on values and variables. Some of the common operators in Python are:\n",
    " - Arithmetic Operators:\n",
    "     - Arithmetic Operators: +, -, *, /, // (floor division), % (modulo)\n",
    "     - Comparison Operators ==, !=, <, >, <=, >=\n",
    "     - Logical Operators: `and`, `or`, `not`\n",
    "     - Expressions"
   ]
  },
  {
   "cell_type": "markdown",
   "id": "16b9e8a4",
   "metadata": {},
   "source": [
    "Numerical Operators"
   ]
  },
  {
   "cell_type": "code",
   "execution_count": 10,
   "id": "7d5d0025",
   "metadata": {},
   "outputs": [
    {
     "name": "stdout",
     "output_type": "stream",
     "text": [
      "7\n",
      "3\n",
      "10\n",
      "2.5\n",
      "2\n",
      "1\n"
     ]
    }
   ],
   "source": [
    "x = 5\n",
    "y = 2\n",
    "print(x + y)  # Output: 7\n",
    "print(x - y)  # Output: 3\n",
    "print(x * y)  # Output: 10\n",
    "print(x / y)  # Output: 2.5\n",
    "print(x // y)  # Output: 2\n",
    "print(x % y)  # Output: 1"
   ]
  },
  {
   "cell_type": "markdown",
   "id": "40212239",
   "metadata": {},
   "source": [
    "Comparison Operators"
   ]
  },
  {
   "cell_type": "code",
   "execution_count": 11,
   "id": "f0b6ee21",
   "metadata": {},
   "outputs": [
    {
     "name": "stdout",
     "output_type": "stream",
     "text": [
      "False\n",
      "True\n",
      "False\n",
      "True\n",
      "False\n",
      "True\n"
     ]
    }
   ],
   "source": [
    "x = 5\n",
    "y = 2\n",
    "print(x == y)  # Output: False\n",
    "print(x != y)  # Output: True\n",
    "print(x < y)  # Output: False\n",
    "print(x > y)  # Output: True\n",
    "print(x <= y)  # Output: False\n",
    "print(x >= y)  # Output: True"
   ]
  },
  {
   "cell_type": "markdown",
   "id": "ccfdc9b4",
   "metadata": {},
   "source": [
    "Logical Operators:"
   ]
  },
  {
   "cell_type": "code",
   "execution_count": 12,
   "id": "b3b5f840",
   "metadata": {},
   "outputs": [
    {
     "name": "stdout",
     "output_type": "stream",
     "text": [
      "True\n",
      "True\n",
      "False\n"
     ]
    }
   ],
   "source": [
    "x = 5\n",
    "y = 2\n",
    "z = 3\n",
    "print(x > y and x > z)  # Output: True\n",
    "print(x > y or x < z)  # Output: True\n",
    "print(not(x > y and x > z))  # Output: False"
   ]
  },
  {
   "cell_type": "markdown",
   "id": "7513d92b",
   "metadata": {},
   "source": [
    "Expressions"
   ]
  },
  {
   "cell_type": "code",
   "execution_count": 13,
   "id": "c4f8543d",
   "metadata": {},
   "outputs": [
    {
     "name": "stdout",
     "output_type": "stream",
     "text": [
      "7\n"
     ]
    }
   ],
   "source": [
    "x = 5\n",
    "y = 2\n",
    "z = x + y\n",
    "print(z)  # Output: 7"
   ]
  },
  {
   "cell_type": "markdown",
   "id": "fc09615b",
   "metadata": {},
   "source": [
    "#### Basic Data Types\n",
    "1. Numeric Types\n",
    "\n",
    "Python supports different types of numeric values such as integers, floating-point numbers, and complex numbers. Integers are whole numbers, while floating-point numbers have decimal places. Complex numbers consist of a real and imaginary part. For example:"
   ]
  },
  {
   "cell_type": "code",
   "execution_count": 2,
   "id": "8544873c",
   "metadata": {},
   "outputs": [],
   "source": [
    "# Integer\n",
    "x = 5\n",
    "\n",
    "# Float\n",
    "y = 3.5\n",
    "\n",
    "# Complex\n",
    "z = 4 + 5j"
   ]
  },
  {
   "cell_type": "markdown",
   "id": "751dca7a",
   "metadata": {},
   "source": [
    "2. Boolean type\n",
    "\n",
    "The Boolean data type has only two possible values: True and False. Boolean values are often used in conditional statements and loops. For example:"
   ]
  },
  {
   "cell_type": "code",
   "execution_count": 3,
   "id": "87ab64a5",
   "metadata": {},
   "outputs": [],
   "source": [
    "a = True\n",
    "b = False"
   ]
  },
  {
   "cell_type": "markdown",
   "id": "17aa697a",
   "metadata": {},
   "source": [
    "3. Strings\n",
    "\n",
    "Strings are used to represent text data in Python. Strings are created by enclosing the text within quotes (single or double). For example:"
   ]
  },
  {
   "cell_type": "code",
   "execution_count": 5,
   "id": "32a0c604",
   "metadata": {},
   "outputs": [
    {
     "name": "stdout",
     "output_type": "stream",
     "text": [
      "Hello, Travis!\n"
     ]
    }
   ],
   "source": [
    "name = \"Travis\"\n",
    "message = 'Hello, ' + name + '!'\n",
    "print(message)"
   ]
  },
  {
   "cell_type": "markdown",
   "id": "3395ed11",
   "metadata": {},
   "source": [
    "4. Lists\n",
    "\n",
    "A list is a collection of values that are ordered and changeable. Lists are created by enclosing the values within square brackets and separating them with commas. For example:"
   ]
  },
  {
   "cell_type": "code",
   "execution_count": 6,
   "id": "d7c4cdc1",
   "metadata": {},
   "outputs": [
    {
     "name": "stdout",
     "output_type": "stream",
     "text": [
      "['apple', 'banana', 'cherry']\n"
     ]
    }
   ],
   "source": [
    "fruits = ['apple', 'banana', 'cherry']\n",
    "print(fruits)"
   ]
  },
  {
   "cell_type": "markdown",
   "id": "1842cac2",
   "metadata": {},
   "source": [
    "5. Tuples\n",
    "\n",
    "Tuples are similar to lists but are immutable, meaning their values cannot be changed once created. Tuples are created by enclosing the values within parentheses and separating them with commas. For example:"
   ]
  },
  {
   "cell_type": "code",
   "execution_count": 7,
   "id": "909c61f8",
   "metadata": {},
   "outputs": [
    {
     "name": "stdout",
     "output_type": "stream",
     "text": [
      "('John', 25, 'male')\n"
     ]
    }
   ],
   "source": [
    "person = ('John', 25, 'male')\n",
    "print(person)"
   ]
  },
  {
   "cell_type": "markdown",
   "id": "0389a8d8",
   "metadata": {},
   "source": [
    "6. Dictionaries\n",
    "\n",
    "Dictionaries are used to store key-value pairs, where each key is unique. Dictionaries are created by enclosing the key-value pairs within curly braces and separating them with commas. For example:"
   ]
  },
  {
   "cell_type": "code",
   "execution_count": 8,
   "id": "9a059b11",
   "metadata": {},
   "outputs": [
    {
     "name": "stdout",
     "output_type": "stream",
     "text": [
      "{'name': 'John', 'age': 25, 'gender': 'male'}\n"
     ]
    }
   ],
   "source": [
    "person = {'name': 'John', 'age': 25, 'gender': 'male'}\n",
    "print(person)"
   ]
  },
  {
   "cell_type": "markdown",
   "id": "7bd80c5f",
   "metadata": {},
   "source": [
    "## Control Structures\n",
    "- For loops\n",
    "- While loops\n",
    "- if-else statements\n"
   ]
  },
  {
   "cell_type": "markdown",
   "id": "49052a77",
   "metadata": {},
   "source": [
    "**For Loops**\n",
    "For loops are used to iterate over a sequence of values, such as a list or a string. The loop continues for each element in the sequence until there are no more elements left. The basic syntax of a for loop in Python is as follows:\n",
    "\n",
    "```\n",
    "for variable in sequence:\n",
    "    # do something\n",
    "\n",
    "```\n",
    "\n",
    "In this syntax, variable represents the current element of the sequence, and sequence is the sequence being iterated over. Here is an example of a for loop that prints each element of a list:"
   ]
  },
  {
   "cell_type": "code",
   "execution_count": 1,
   "id": "6435a0d1",
   "metadata": {},
   "outputs": [
    {
     "name": "stdout",
     "output_type": "stream",
     "text": [
      "apple\n",
      "banana\n",
      "cherry\n",
      "pineapple\n",
      "grapefruit\n"
     ]
    }
   ],
   "source": [
    "fruits = ['apple', 'banana', 'cherry', 'pineapple', 'grapefruit']\n",
    "for fruit in fruits:\n",
    "    print(fruit)"
   ]
  },
  {
   "cell_type": "markdown",
   "id": "c264ea1c",
   "metadata": {},
   "source": [
    "An alternative method of iterating over a sequence, is to reference each element of the sequence by its location within the sequence (the index). Keep in mind that the index starts at 0, and goes to 1 - (length of sequence). Here is an example of a for loop iterating over each element of a list by index. "
   ]
  },
  {
   "cell_type": "code",
   "execution_count": 2,
   "id": "00937cde",
   "metadata": {},
   "outputs": [
    {
     "name": "stdout",
     "output_type": "stream",
     "text": [
      "apple\n",
      "banana\n",
      "cherry\n",
      "pineapple\n",
      "grapefruit\n"
     ]
    }
   ],
   "source": [
    "for i in range(len(fruits)):\n",
    "    print(fruits[i])"
   ]
  },
  {
   "cell_type": "markdown",
   "id": "20a067fd",
   "metadata": {},
   "source": [
    "**While Loops**\n",
    "While loops are used to repeat a block of code until a specified condition is met. The basic syntax of a while loop in Python is as follows:\n",
    "\n",
    "```\n",
    "while condition:\n",
    "    # do something\n",
    "\n",
    "```\n",
    "\n",
    "Note that condition must be evaluated as a boolean value True/ False, such that while the condition is True, the loop will continue executing. Only when the condition is evaluated as False, will the loop halt and normal flow of the program resume. \n",
    "\n",
    "In this syntax, condition is a Boolean expression that determines whether the loop should continue or not. Here is an example of a while loop that counts from 1 to 5:"
   ]
  },
  {
   "cell_type": "code",
   "execution_count": 4,
   "id": "d9a9ad1b",
   "metadata": {},
   "outputs": [
    {
     "name": "stdout",
     "output_type": "stream",
     "text": [
      "0\n",
      "1\n",
      "2\n",
      "3\n",
      "4\n",
      "5\n"
     ]
    }
   ],
   "source": [
    "count = 0\n",
    "while count <= 5:\n",
    "    print(count)\n",
    "    count += 1"
   ]
  },
  {
   "cell_type": "markdown",
   "id": "f9f10fac",
   "metadata": {},
   "source": [
    "**If-Else Statements**\n",
    "If-else statements are used to execute different blocks of code depending on a specified condition. The basic syntax of an if-else statement in Python is as follows:\n",
    "\n",
    "```\n",
    "if condition:\n",
    "    # do something\n",
    "else:\n",
    "    # do something else\n",
    "\n",
    "```\n",
    "\n",
    "In this syntax, condition is a Boolean expression that determines which block of code should be executed. Here is an example of an if-else statement that checks if a number is even or odd:"
   ]
  },
  {
   "cell_type": "code",
   "execution_count": 5,
   "id": "cf0511af",
   "metadata": {},
   "outputs": [
    {
     "name": "stdout",
     "output_type": "stream",
     "text": [
      "Odd\n"
     ]
    }
   ],
   "source": [
    "num = 9\n",
    "if num % 2 == 0:\n",
    "    print(\"Even\")\n",
    "else:\n",
    "    print(\"Odd\")\n"
   ]
  },
  {
   "cell_type": "markdown",
   "id": "dfb6ec24",
   "metadata": {},
   "source": [
    "Note, more than a single if statement can be used, the format would be:\n",
    "\n",
    "```\n",
    "if condition:\n",
    "    # do something\n",
    "elif condition:\n",
    "    # do something\n",
    "else:\n",
    "    # do something else\n",
    "```\n",
    "\n",
    "Additionally, if the else statement is not needed, then it is not required to place it within the code if it performs no actions."
   ]
  },
  {
   "cell_type": "markdown",
   "id": "998cb992",
   "metadata": {},
   "source": [
    "### Exersizes\n",
    "\n",
    "The below set of exersizes aim to cover the first two topics of Python basics, and control structures. \n",
    "\n",
    "Useful methods to complete the exersizes, include the input function, used as below:\n",
    "\n",
    "```\n",
    "variable = input('text displayed to user')\n",
    "```\n",
    "\n",
    "The above code will allow the user to input information to the program. A code example is below. Please run it to get a felling for how the method works, this will be essential in the exersizes."
   ]
  },
  {
   "cell_type": "code",
   "execution_count": 4,
   "id": "b77b1e3d",
   "metadata": {},
   "outputs": [
    {
     "name": "stdout",
     "output_type": "stream",
     "text": [
      "What is your name? Travis\n",
      "Travis\n"
     ]
    }
   ],
   "source": [
    "name = input('What is your name? ')\n",
    "print(name)"
   ]
  },
  {
   "cell_type": "markdown",
   "id": "3044b582",
   "metadata": {},
   "source": [
    "1. Write a program that asks the user for their name and age, and then prints a message that says \"Hello, [name]! You are [age] years old.\""
   ]
  },
  {
   "cell_type": "code",
   "execution_count": null,
   "id": "14b155ef",
   "metadata": {},
   "outputs": [],
   "source": []
  },
  {
   "cell_type": "markdown",
   "id": "27225819",
   "metadata": {},
   "source": [
    "2. Write a program that asks the user to enter two numbers and then prints the sum, difference, product, and quotient of the two numbers."
   ]
  },
  {
   "cell_type": "code",
   "execution_count": null,
   "id": "046bfce1",
   "metadata": {},
   "outputs": [],
   "source": []
  },
  {
   "cell_type": "markdown",
   "id": "bb35faed",
   "metadata": {},
   "source": [
    "3. Write a program that asks the user to enter a temperature in Fahrenheit and then converts it to Celsius using the formula C = (F - 32) * 5/9. Print the result with two decimal places."
   ]
  },
  {
   "cell_type": "code",
   "execution_count": null,
   "id": "ad21175c",
   "metadata": {},
   "outputs": [],
   "source": []
  },
  {
   "cell_type": "markdown",
   "id": "4e253c07",
   "metadata": {},
   "source": [
    "4. Write a program that asks the user to enter a string and then prints the string reversed."
   ]
  },
  {
   "cell_type": "code",
   "execution_count": null,
   "id": "9c9b2501",
   "metadata": {},
   "outputs": [],
   "source": []
  },
  {
   "cell_type": "markdown",
   "id": "b9aa471b",
   "metadata": {},
   "source": [
    "5. Write a program that generates a random number between 1 and 100 and then asks the user to guess the number. If the user's guess is too high, the program should print \"Too high!\" If the user's guess is too low, the program should print \"Too low!\" If the user's guess is correct, the program should print \"Congratulations, you guessed the number!\""
   ]
  },
  {
   "cell_type": "markdown",
   "id": "4f7b1521",
   "metadata": {},
   "source": [
    "## Data Structures\n",
    "- Lists\n",
    "- Dictionaries\n",
    "- Tuples\n",
    "- Sets"
   ]
  },
  {
   "cell_type": "markdown",
   "id": "5ea4ad53",
   "metadata": {},
   "source": [
    "**Lists**\n",
    "\n",
    "A list is a collection of items, which can be of different data types. Lists are ordered, meaning that the items in a list have a specific order. Lists are mutable, meaning that you can add, remove, or modify items in a list after it has been created.\n",
    "Below is example code showcasing a few of the methods used to modify a list, and check its status. "
   ]
  },
  {
   "cell_type": "code",
   "execution_count": 15,
   "id": "01eeed2c",
   "metadata": {},
   "outputs": [
    {
     "name": "stdout",
     "output_type": "stream",
     "text": [
      "2\n",
      "6\n",
      "List length:  5\n"
     ]
    }
   ],
   "source": [
    "# Create a list of integers\n",
    "numbers = [1, 2, 3, 4, 5]\n",
    "\n",
    "# Access a value at index\n",
    "print(numbers[1])\n",
    "\n",
    "# Alter value at index\n",
    "numbers[1] = 6\n",
    "print(numbers[1])\n",
    "\n",
    "\n",
    "# Determine the length of the list\n",
    "print(\"List length: \", len(numbers))"
   ]
  },
  {
   "cell_type": "code",
   "execution_count": 13,
   "id": "4e5e173b",
   "metadata": {},
   "outputs": [
    {
     "name": "stdout",
     "output_type": "stream",
     "text": [
      "['apple', 'cherry', 'orange', 'pineapple', 'grapefruit', 'pear']\n"
     ]
    }
   ],
   "source": [
    "# Create a list of strings\n",
    "fruits = [\"apple\", \"banana\", \"cherry\", \"orange\", \"pineapple\", \"grapefruit\"]\n",
    "\n",
    "# Add an item to the end of the list\n",
    "fruits.append(\"pear\")\n",
    "\n",
    "# Remove an item from the list\n",
    "fruits.remove(\"banana\")\n",
    "\n",
    "# Access an item in the list by index\n",
    "print(fruits)"
   ]
  },
  {
   "cell_type": "code",
   "execution_count": 11,
   "id": "abbd6882",
   "metadata": {},
   "outputs": [
    {
     "name": "stdout",
     "output_type": "stream",
     "text": [
      "apple\n",
      "cherry\n",
      "orange\n",
      "pineapple\n",
      "grapefruit\n",
      "pear\n"
     ]
    }
   ],
   "source": [
    "# Iterate over the items in the list\n",
    "for fruit in fruits:\n",
    "    print(fruit)"
   ]
  },
  {
   "cell_type": "markdown",
   "id": "4c3bf46e",
   "metadata": {},
   "source": [
    "**Dictionaries**\n",
    "\n",
    "A dictionary is a collection of key-value pairs. Each key in a dictionary maps to a value, so you can use the key to look up the corresponding value. Dictionaries are unordered, meaning that the items in a dictionary do not have a specific order. Dictionaries are mutable, meaning that you can add, remove, or modify key-value pairs in a dictionary after it has been created. Below is example code showcasing a few of the methods used to modify a dictionary, and check its status. "
   ]
  },
  {
   "cell_type": "code",
   "execution_count": 16,
   "id": "3f9e0ad2",
   "metadata": {},
   "outputs": [
    {
     "name": "stdout",
     "output_type": "stream",
     "text": [
      "{'Alice': 25, 'Bob': 30, 'Charlie': 35, 'David': 40}\n"
     ]
    }
   ],
   "source": [
    "# Create a dictionary of names and ages\n",
    "ages = {\"Alice\": 25, \"Bob\": 30, \"Charlie\": 35}\n",
    "\n",
    "# Add a new key-value pair to the dictionary\n",
    "ages[\"David\"] = 40\n",
    "\n",
    "print(ages)"
   ]
  },
  {
   "cell_type": "code",
   "execution_count": 17,
   "id": "e6d8f609",
   "metadata": {},
   "outputs": [
    {
     "name": "stdout",
     "output_type": "stream",
     "text": [
      "{'Alice': 25, 'Bob': 30, 'David': 40}\n"
     ]
    }
   ],
   "source": [
    "# Remove a key-value pair from the dictionary\n",
    "del ages[\"Charlie\"]\n",
    "print(ages)"
   ]
  },
  {
   "cell_type": "code",
   "execution_count": 18,
   "id": "6b6f679d",
   "metadata": {},
   "outputs": [
    {
     "name": "stdout",
     "output_type": "stream",
     "text": [
      "30\n"
     ]
    }
   ],
   "source": [
    "# Look up a value by key\n",
    "print(ages[\"Bob\"])"
   ]
  },
  {
   "cell_type": "code",
   "execution_count": 19,
   "id": "56812d61",
   "metadata": {},
   "outputs": [
    {
     "name": "stdout",
     "output_type": "stream",
     "text": [
      "Alice\n",
      "Bob\n",
      "David\n"
     ]
    }
   ],
   "source": [
    "# Iterate over the keys in the dictionary\n",
    "for name in ages:\n",
    "    print(name)"
   ]
  },
  {
   "cell_type": "code",
   "execution_count": 20,
   "id": "f6e81aee",
   "metadata": {},
   "outputs": [
    {
     "name": "stdout",
     "output_type": "stream",
     "text": [
      "25\n",
      "30\n",
      "40\n"
     ]
    }
   ],
   "source": [
    "# Iterate over the values in the dictionary\n",
    "for age in ages.values():\n",
    "    print(age)"
   ]
  },
  {
   "cell_type": "code",
   "execution_count": 21,
   "id": "5dc4870e",
   "metadata": {},
   "outputs": [
    {
     "name": "stdout",
     "output_type": "stream",
     "text": [
      "Alice 25\n",
      "Bob 30\n",
      "David 40\n"
     ]
    }
   ],
   "source": [
    "# Iterate over the key-value pairs in the dictionary\n",
    "for name, age in ages.items():\n",
    "    print(name, age)"
   ]
  },
  {
   "cell_type": "markdown",
   "id": "d6d7826f",
   "metadata": {},
   "source": [
    "**Tuples**\n",
    "\n",
    "A tuple is a collection of items, which can be of different data types. Tuples are ordered, meaning that the items in a tuple have a specific order. Tuples are immutable, meaning that you cannot add, remove, or modify items in a tuple after it has been created. Below is example code showcasing methods to create, and access a tuple."
   ]
  },
  {
   "cell_type": "code",
   "execution_count": 22,
   "id": "a06cbdfc",
   "metadata": {},
   "outputs": [
    {
     "name": "stdout",
     "output_type": "stream",
     "text": [
      "apple\n",
      "apple\n",
      "banana\n",
      "cherry\n",
      "orange\n",
      "pineapple\n",
      "grapefruit\n"
     ]
    }
   ],
   "source": [
    "# Create a tuple of integers\n",
    "numbers = (1, 2, 3, 4, 5)\n",
    "\n",
    "# Create a tuple of strings\n",
    "fruits = (\"apple\", \"banana\", \"cherry\", \"orange\", \"pineapple\", \"grapefruit\")\n",
    "\n",
    "# Access an item in the tuple by index\n",
    "print(fruits[0])\n",
    "\n",
    "# Iterate over the items in the tuple\n",
    "for fruit in fruits:\n",
    "    print(fruit)"
   ]
  },
  {
   "cell_type": "markdown",
   "id": "ce3a4980",
   "metadata": {},
   "source": [
    "**Sets**\n",
    "\n",
    "A set is a collection of unique items, which can be of different data types. Sets are unordered, meaning that the items in a set do not have a specific order. Sets are mutable, meaning that you can add or remove items in a set after it has been created."
   ]
  },
  {
   "cell_type": "code",
   "execution_count": 24,
   "id": "2465fa25",
   "metadata": {},
   "outputs": [],
   "source": [
    "# Create a set of integers\n",
    "numbers = {1, 2, 3, 4, 5}\n",
    "\n",
    "# Create a set of strings\n",
    "fruits = {\"apple\", \"banana\", \"cherry\", \"orange\"}"
   ]
  },
  {
   "cell_type": "code",
   "execution_count": 25,
   "id": "db90fb97",
   "metadata": {},
   "outputs": [
    {
     "name": "stdout",
     "output_type": "stream",
     "text": [
      "apple\n",
      "orange\n",
      "pear\n",
      "cherry\n"
     ]
    }
   ],
   "source": [
    "# Add an item to the set\n",
    "fruits.add(\"pear\")\n",
    "\n",
    "# Remove an item from the set\n",
    "fruits.remove(\"banana\")\n",
    "\n",
    "# Iterate over the items in the set\n",
    "for fruit in fruits:\n",
    "    print(fruit)"
   ]
  },
  {
   "cell_type": "markdown",
   "id": "a0114fb4",
   "metadata": {},
   "source": [
    "### Exersizes\n",
    "The below exersizes will require the use of the three prior sections in order to complete. There are multiple ways to complete the below exersizes, and no single right way. "
   ]
  },
  {
   "cell_type": "markdown",
   "id": "e53a4272",
   "metadata": {},
   "source": [
    "1. Write a program that takes a list of integers as input and outputs the sum of all the even numbers in the list. "
   ]
  },
  {
   "cell_type": "code",
   "execution_count": 27,
   "id": "6b1a3b46",
   "metadata": {},
   "outputs": [],
   "source": [
    "numbers = [1, 2, 3, 4, 5, 6, 7, 8, 9, 10]\n",
    "\n",
    "# code here..."
   ]
  },
  {
   "cell_type": "markdown",
   "id": "a719db2e",
   "metadata": {},
   "source": [
    "2. Write a program that takes a list of strings as input and outputs the number of strings that start with the letter \"a\".\n",
    "\n",
    "For this exersize, look up methods to be used on a string. \n",
    "A possible method that can be used to help solve this exersize is `string.startswith()`"
   ]
  },
  {
   "cell_type": "code",
   "execution_count": 26,
   "id": "f562f613",
   "metadata": {},
   "outputs": [],
   "source": [
    "fruits = [\"apple\", \"banana\", \"apricot\", \"orange\", \"avocado\", \"grapefruit\"]\n",
    "\n",
    "# code here"
   ]
  },
  {
   "cell_type": "markdown",
   "id": "87057879",
   "metadata": {},
   "source": [
    "3. Write a program that takes a dictionary of names and ages as input and outputs the name of the oldest person in the dictionary."
   ]
  },
  {
   "cell_type": "code",
   "execution_count": 28,
   "id": "968983ab",
   "metadata": {},
   "outputs": [],
   "source": [
    "ages = {\"Alice\": 25, \"Bob\": 30, \"Charlie\": 35, \"David\": 40}\n",
    "\n",
    "# code here..."
   ]
  },
  {
   "cell_type": "markdown",
   "id": "8c294e7e",
   "metadata": {},
   "source": [
    "4. Write a program that takes a dictionary of words and their frequencies as input and outputs the word with the highest frequency."
   ]
  },
  {
   "cell_type": "code",
   "execution_count": 30,
   "id": "953c5af2",
   "metadata": {},
   "outputs": [],
   "source": [
    "word_freq = {\"apple\": 3, \"banana\": 2, \"cherry\": 5, \"orange\": 4}\n",
    "\n",
    "# code here"
   ]
  },
  {
   "cell_type": "markdown",
   "id": "897c5aec",
   "metadata": {},
   "source": [
    "5. Write a program that takes a tuple of integers as input and outputs the product of all the numbers in the tuple.\n",
    "\n",
    "A possible avenue includes the use of the `*=`. Try is below to see how it works and can be applied to the exersize"
   ]
  },
  {
   "cell_type": "code",
   "execution_count": 31,
   "id": "8cfb219b",
   "metadata": {},
   "outputs": [
    {
     "name": "stdout",
     "output_type": "stream",
     "text": [
      "10\n"
     ]
    }
   ],
   "source": [
    "product = 5\n",
    "\n",
    "product *= 2\n",
    "print(product)"
   ]
  },
  {
   "cell_type": "code",
   "execution_count": 32,
   "id": "ba4c953e",
   "metadata": {},
   "outputs": [],
   "source": [
    "numbers = (1, 2, 3, 4, 5)"
   ]
  },
  {
   "cell_type": "markdown",
   "id": "dc57f81b",
   "metadata": {},
   "source": [
    "6. Write a program that takes a tuple of strings as input and outputs the number of strings that have more than 5 characters."
   ]
  },
  {
   "cell_type": "code",
   "execution_count": 33,
   "id": "c41b3287",
   "metadata": {},
   "outputs": [],
   "source": [
    "words = (\"apple\", \"banana\", \"cherry\", \"orange\", \"pear\", \"pineapple\", \"grapefruit\")"
   ]
  },
  {
   "cell_type": "markdown",
   "id": "bc8271ca",
   "metadata": {},
   "source": [
    "7. Write a program that takes two sets of integers as input and outputs a set containing only the common elements between the two sets.\n",
    "\n",
    "For this exersize, look into the `set.intersection()` method."
   ]
  },
  {
   "cell_type": "code",
   "execution_count": null,
   "id": "359ad33f",
   "metadata": {},
   "outputs": [],
   "source": [
    "set1 = {1, 2, 3, 4, 5}\n",
    "set2 = {4, 5, 6, 7, 8}"
   ]
  },
  {
   "cell_type": "markdown",
   "id": "1f48250b",
   "metadata": {},
   "source": [
    "## Python Input Output\n",
    "- Basic interactive input and outputs\n",
    "- Writing to and reading from a file"
   ]
  },
  {
   "cell_type": "markdown",
   "id": "93f11f87",
   "metadata": {},
   "source": [
    "**Basic input and output**\n",
    "\n",
    "The basic Python input/ outputs include: \n",
    "- `print(\"\")`\n",
    "- `input()`"
   ]
  },
  {
   "cell_type": "code",
   "execution_count": 2,
   "id": "0baaa07c",
   "metadata": {},
   "outputs": [
    {
     "name": "stdout",
     "output_type": "stream",
     "text": [
      "Hello world\n"
     ]
    }
   ],
   "source": [
    "print(\"Hello world\")"
   ]
  },
  {
   "cell_type": "code",
   "execution_count": 3,
   "id": "660bff7f",
   "metadata": {},
   "outputs": [
    {
     "name": "stdout",
     "output_type": "stream",
     "text": [
      "Enter your nameTravis\n",
      "Hi, Travis\n"
     ]
    }
   ],
   "source": [
    "name = input(\"Enter your name\")\n",
    "print(\"Hi, \" + name)"
   ]
  },
  {
   "cell_type": "markdown",
   "id": "51a84d14",
   "metadata": {},
   "source": [
    "**Files**\n",
    "\n",
    "**Writing**\n",
    "Please utilize this link to learn a more comprehensive background on files: https://www.w3schools.com/python/python_file_handling.asp \n",
    "\n",
    "To write data to a file in Python, you first need to open the file using the open() function. The `open()` function takes two arguments: the name of the file to be opened, and the mode in which the file is to be opened.\n",
    "\n",
    "\n",
    "In the below example please note that the file must exist before openning it.\n",
    "```\n",
    "# Open a file for writing\n",
    "file = open(\"output.txt\", \"w\")\n",
    "\n",
    "# Write data to the file\n",
    "file.write(\"Hello, world!\")\n",
    "\n",
    "# Close the file\n",
    "file.close()\n",
    "\n",
    "```\n",
    "\n",
    "In the example above, the `open()` function is used to open a file named `\"output.txt\"` for writing. The file is opened in \"write\" mode, indicated by the \"w\" argument. The `write()` method is then used to write the string \"Hello, world!\" to the file. Finally, `the close()` method is used to close the file.\n",
    "\n",
    "**Reading**\n",
    "To read data from a file in Python, you first need to open the file using the `open()` function. The `open()` function takes two arguments: the name of the file to be opened, and the mode in which the file is to be opened.\n",
    "\n",
    "```\n",
    "# Open a file for reading\n",
    "file = open(\"input.txt\", \"r\")\n",
    "\n",
    "# Read data from the file\n",
    "data = file.read()\n",
    "\n",
    "# Close the file\n",
    "file.close()\n",
    "\n",
    "# Display the data\n",
    "print(data)\n",
    "\n",
    "```\n",
    "\n",
    "In the example above, the open() function is used to open a file named \"input.txt\" for reading. The file is opened in \"read\" mode, indicated by the \"r\" argument. The read() method is then used to read the contents of the file into a variable named data. Finally, the `close()` method is used to close the file, and the print() function is used to display the contents of the file to the console."
   ]
  },
  {
   "cell_type": "markdown",
   "id": "d928d2b0",
   "metadata": {},
   "source": [
    "### Input and Output Exersizes"
   ]
  },
  {
   "cell_type": "markdown",
   "id": "43e90fd2",
   "metadata": {},
   "source": [
    "1. Read in the `data.txt` file from `cache/` directory. Please change the sign of the each number being read in, and multiple the changed number by 7$\\pi$. Please display (print) the original and transformed numbers. Additionally please write the transformed numbers to a new file `data_transformed.txt`"
   ]
  },
  {
   "cell_type": "code",
   "execution_count": null,
   "id": "00f18d89",
   "metadata": {},
   "outputs": [],
   "source": []
  }
 ],
 "metadata": {
  "kernelspec": {
   "display_name": "Python 3 (ipykernel)",
   "language": "python",
   "name": "python3"
  },
  "language_info": {
   "codemirror_mode": {
    "name": "ipython",
    "version": 3
   },
   "file_extension": ".py",
   "mimetype": "text/x-python",
   "name": "python",
   "nbconvert_exporter": "python",
   "pygments_lexer": "ipython3",
   "version": "3.10.6"
  }
 },
 "nbformat": 4,
 "nbformat_minor": 5
}
