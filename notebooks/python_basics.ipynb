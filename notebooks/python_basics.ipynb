{
 "cells": [
  {
   "cell_type": "markdown",
   "id": "4b1c026c",
   "metadata": {},
   "source": [
    "# Introduction to Python\n",
    "This Notebook will serve as an introduction to Python programming language. \n",
    "This notebook is used to supplement my tutoring lessons, and enable students to start using Python is a responsive environment in which you can directly see the results of your code. Please make use of the below link to persue further information as this Notebook is by no means comprehensive.\n",
    "\n",
    "For comprehensive infromation regarding all elements of Python please visit: https://www.w3schools.com/python/python_intro.asp \n",
    "\n",
    "Please note, the creation of this notebook was aided by the use of ChatGPT3, and my own modifications to the suggestions, and my personal experience and knowledge."
   ]
  },
  {
   "cell_type": "markdown",
   "id": "3eb161be",
   "metadata": {},
   "source": [
    "### Contents\n",
    "- Python Basics\n",
    "- Control structures\n",
    "- Data structures\n",
    "- Input/Output\n",
    "- Functions\n",
    "\n",
    "Once you have compled this notebook, please progress to the **Object Oriented Programming** (OOP) notebook.\n",
    "\n",
    "If you are looking for additional exersizes, please see the **exersizes/** directory within this repository, there exists two additional sets of Python exersizes. "
   ]
  },
  {
   "cell_type": "markdown",
   "id": "b91d8043",
   "metadata": {},
   "source": [
    "## Python Basics\n",
    "- **Basic datatypes**\n",
    "- **Variables**\n",
    "- **Operators**"
   ]
  },
  {
   "cell_type": "markdown",
   "id": "3fe74c24",
   "metadata": {},
   "source": [
    "#### Variables\n",
    "Variables are used to store data values. To create a variable, you simply give it a name and assign it a value using the = operator. For example"
   ]
  },
  {
   "cell_type": "code",
   "execution_count": 3,
   "id": "8d344b27",
   "metadata": {},
   "outputs": [],
   "source": [
    "x = 10"
   ]
  },
  {
   "cell_type": "markdown",
   "id": "e8e6a3ee",
   "metadata": {},
   "source": [
    "In the above, x is the variable name, and the value assigned to is is 10."
   ]
  },
  {
   "cell_type": "markdown",
   "id": "5f9e7934",
   "metadata": {},
   "source": [
    "#### Operators\n",
    " Operators are used to perform operations on values and variables. Some of the common operators in Python are:\n",
    " - Arithmetic Operators:\n",
    "     - Arithmetic Operators: +, -, *, /, // (floor division), % (modulo)\n",
    "     - Comparison Operators ==, !=, <, >, <=, >=\n",
    "     - Logical Operators: `and`, `or`, `not`\n",
    "     - Expressions"
   ]
  },
  {
   "cell_type": "markdown",
   "id": "16b9e8a4",
   "metadata": {},
   "source": [
    "Numerical Operators"
   ]
  },
  {
   "cell_type": "code",
   "execution_count": 10,
   "id": "7d5d0025",
   "metadata": {},
   "outputs": [
    {
     "name": "stdout",
     "output_type": "stream",
     "text": [
      "7\n",
      "3\n",
      "10\n",
      "2.5\n",
      "2\n",
      "1\n"
     ]
    }
   ],
   "source": [
    "x = 5\n",
    "y = 2\n",
    "print(x + y)  # Output: 7\n",
    "print(x - y)  # Output: 3\n",
    "print(x * y)  # Output: 10\n",
    "print(x / y)  # Output: 2.5\n",
    "print(x // y)  # Output: 2\n",
    "print(x % y)  # Output: 1"
   ]
  },
  {
   "cell_type": "markdown",
   "id": "40212239",
   "metadata": {},
   "source": [
    "Comparison Operators"
   ]
  },
  {
   "cell_type": "code",
   "execution_count": 11,
   "id": "f0b6ee21",
   "metadata": {},
   "outputs": [
    {
     "name": "stdout",
     "output_type": "stream",
     "text": [
      "False\n",
      "True\n",
      "False\n",
      "True\n",
      "False\n",
      "True\n"
     ]
    }
   ],
   "source": [
    "x = 5\n",
    "y = 2\n",
    "print(x == y)  # Output: False\n",
    "print(x != y)  # Output: True\n",
    "print(x < y)  # Output: False\n",
    "print(x > y)  # Output: True\n",
    "print(x <= y)  # Output: False\n",
    "print(x >= y)  # Output: True"
   ]
  },
  {
   "cell_type": "markdown",
   "id": "ccfdc9b4",
   "metadata": {},
   "source": [
    "Logical Operators:"
   ]
  },
  {
   "cell_type": "code",
   "execution_count": 12,
   "id": "b3b5f840",
   "metadata": {},
   "outputs": [
    {
     "name": "stdout",
     "output_type": "stream",
     "text": [
      "True\n",
      "True\n",
      "False\n"
     ]
    }
   ],
   "source": [
    "x = 5\n",
    "y = 2\n",
    "z = 3\n",
    "print(x > y and x > z)  # Output: True\n",
    "print(x > y or x < z)  # Output: True\n",
    "print(not(x > y and x > z))  # Output: False"
   ]
  },
  {
   "cell_type": "markdown",
   "id": "7513d92b",
   "metadata": {},
   "source": [
    "Expressions"
   ]
  },
  {
   "cell_type": "code",
   "execution_count": 13,
   "id": "c4f8543d",
   "metadata": {},
   "outputs": [
    {
     "name": "stdout",
     "output_type": "stream",
     "text": [
      "7\n"
     ]
    }
   ],
   "source": [
    "x = 5\n",
    "y = 2\n",
    "z = x + y\n",
    "print(z)  # Output: 7"
   ]
  },
  {
   "cell_type": "markdown",
   "id": "fc09615b",
   "metadata": {},
   "source": [
    "#### Basic Data Types\n",
    "1. Numeric Types\n",
    "\n",
    "Python supports different types of numeric values such as integers, floating-point numbers, and complex numbers. Integers are whole numbers, while floating-point numbers have decimal places. Complex numbers consist of a real and imaginary part. For example:"
   ]
  },
  {
   "cell_type": "code",
   "execution_count": 2,
   "id": "8544873c",
   "metadata": {},
   "outputs": [],
   "source": [
    "# Integer\n",
    "x = 5\n",
    "\n",
    "# Float\n",
    "y = 3.5\n",
    "\n",
    "# Complex\n",
    "z = 4 + 5j"
   ]
  },
  {
   "cell_type": "markdown",
   "id": "751dca7a",
   "metadata": {},
   "source": [
    "2. Boolean type\n",
    "\n",
    "The Boolean data type has only two possible values: True and False. Boolean values are often used in conditional statements and loops. For example:"
   ]
  },
  {
   "cell_type": "code",
   "execution_count": 3,
   "id": "87ab64a5",
   "metadata": {},
   "outputs": [],
   "source": [
    "a = True\n",
    "b = False"
   ]
  },
  {
   "cell_type": "markdown",
   "id": "17aa697a",
   "metadata": {},
   "source": [
    "3. Strings\n",
    "\n",
    "Strings are used to represent text data in Python. Strings are created by enclosing the text within quotes (single or double). For example:"
   ]
  },
  {
   "cell_type": "code",
   "execution_count": 5,
   "id": "32a0c604",
   "metadata": {},
   "outputs": [
    {
     "name": "stdout",
     "output_type": "stream",
     "text": [
      "Hello, Travis!\n"
     ]
    }
   ],
   "source": [
    "name = \"Travis\"\n",
    "message = 'Hello, ' + name + '!'\n",
    "print(message)"
   ]
  },
  {
   "cell_type": "markdown",
   "id": "3395ed11",
   "metadata": {},
   "source": [
    "4. Lists\n",
    "\n",
    "A list is a collection of values that are ordered and changeable. Lists are created by enclosing the values within square brackets and separating them with commas. For example:"
   ]
  },
  {
   "cell_type": "code",
   "execution_count": 6,
   "id": "d7c4cdc1",
   "metadata": {},
   "outputs": [
    {
     "name": "stdout",
     "output_type": "stream",
     "text": [
      "['apple', 'banana', 'cherry']\n"
     ]
    }
   ],
   "source": [
    "fruits = ['apple', 'banana', 'cherry']\n",
    "print(fruits)"
   ]
  },
  {
   "cell_type": "markdown",
   "id": "1842cac2",
   "metadata": {},
   "source": [
    "5. Tuples\n",
    "\n",
    "Tuples are similar to lists but are immutable, meaning their values cannot be changed once created. Tuples are created by enclosing the values within parentheses and separating them with commas. For example:"
   ]
  },
  {
   "cell_type": "code",
   "execution_count": 7,
   "id": "909c61f8",
   "metadata": {},
   "outputs": [
    {
     "name": "stdout",
     "output_type": "stream",
     "text": [
      "('John', 25, 'male')\n"
     ]
    }
   ],
   "source": [
    "person = ('John', 25, 'male')\n",
    "print(person)"
   ]
  },
  {
   "cell_type": "markdown",
   "id": "0389a8d8",
   "metadata": {},
   "source": [
    "6. Dictionaries\n",
    "\n",
    "Dictionaries are used to store key-value pairs, where each key is unique. Dictionaries are created by enclosing the key-value pairs within curly braces and separating them with commas. For example:"
   ]
  },
  {
   "cell_type": "code",
   "execution_count": 8,
   "id": "9a059b11",
   "metadata": {},
   "outputs": [
    {
     "name": "stdout",
     "output_type": "stream",
     "text": [
      "{'name': 'John', 'age': 25, 'gender': 'male'}\n"
     ]
    }
   ],
   "source": [
    "person = {'name': 'John', 'age': 25, 'gender': 'male'}\n",
    "print(person)"
   ]
  },
  {
   "cell_type": "markdown",
   "id": "7bd80c5f",
   "metadata": {},
   "source": [
    "## Control Structures\n",
    "- For loops\n",
    "- While loops\n",
    "- if-else statements\n"
   ]
  },
  {
   "cell_type": "markdown",
   "id": "49052a77",
   "metadata": {},
   "source": [
    "**For Loops**\n",
    "For loops are used to iterate over a sequence of values, such as a list or a string. The loop continues for each element in the sequence until there are no more elements left. The basic syntax of a for loop in Python is as follows:\n",
    "\n",
    "```\n",
    "for variable in sequence:\n",
    "    # do something\n",
    "\n",
    "```\n",
    "\n",
    "In this syntax, variable represents the current element of the sequence, and sequence is the sequence being iterated over. Here is an example of a for loop that prints each element of a list:"
   ]
  },
  {
   "cell_type": "code",
   "execution_count": 41,
   "id": "6435a0d1",
   "metadata": {},
   "outputs": [
    {
     "name": "stdout",
     "output_type": "stream",
     "text": [
      "apple\n",
      "banana\n",
      "cherry\n",
      "pineapple\n",
      "grapefruit\n"
     ]
    }
   ],
   "source": [
    "fruits = ['apple', 'banana', 'cherry', 'pineapple', 'grapefruit']\n",
    "for x in fruits:\n",
    "    print(x)\n",
    "    "
   ]
  },
  {
   "cell_type": "markdown",
   "id": "c264ea1c",
   "metadata": {},
   "source": [
    "An alternative method of iterating over a sequence, is to reference each element of the sequence by its location within the sequence (the index). Keep in mind that the index starts at 0, and goes to 1 - (length of sequence). Here is an example of a for loop iterating over each element of a list by index. "
   ]
  },
  {
   "cell_type": "code",
   "execution_count": 43,
   "id": "709d7fd0",
   "metadata": {},
   "outputs": [
    {
     "data": {
      "text/plain": [
       "range(2, 10)"
      ]
     },
     "execution_count": 43,
     "metadata": {},
     "output_type": "execute_result"
    }
   ],
   "source": [
    "range(2, 10)"
   ]
  },
  {
   "cell_type": "code",
   "execution_count": 44,
   "id": "00937cde",
   "metadata": {},
   "outputs": [
    {
     "name": "stdout",
     "output_type": "stream",
     "text": [
      "0\n",
      "apple\n",
      "1\n",
      "banana\n",
      "2\n",
      "cherry\n",
      "3\n",
      "pineapple\n",
      "4\n",
      "grapefruit\n"
     ]
    }
   ],
   "source": [
    "for i in range(len(fruits)):\n",
    "    print(i)\n",
    "    print(fruits[i])"
   ]
  },
  {
   "cell_type": "markdown",
   "id": "20a067fd",
   "metadata": {},
   "source": [
    "**While Loops**\n",
    "While loops are used to repeat a block of code until a specified condition is met. The basic syntax of a while loop in Python is as follows:\n",
    "\n",
    "```\n",
    "while condition:\n",
    "    # do something\n",
    "\n",
    "```\n",
    "\n",
    "Note that condition must be evaluated as a boolean value True/ False, such that while the condition is True, the loop will continue executing. Only when the condition is evaluated as False, will the loop halt and normal flow of the program resume. \n",
    "\n",
    "In this syntax, condition is a Boolean expression that determines whether the loop should continue or not. Here is an example of a while loop that counts from 1 to 5:"
   ]
  },
  {
   "cell_type": "code",
   "execution_count": 4,
   "id": "d9a9ad1b",
   "metadata": {},
   "outputs": [
    {
     "name": "stdout",
     "output_type": "stream",
     "text": [
      "0\n",
      "1\n",
      "2\n",
      "3\n",
      "4\n",
      "5\n"
     ]
    }
   ],
   "source": [
    "count = 0\n",
    "while count <= 5:\n",
    "    print(count)\n",
    "    count += 1"
   ]
  },
  {
   "cell_type": "markdown",
   "id": "f9f10fac",
   "metadata": {},
   "source": [
    "**If-Else Statements**\n",
    "If-else statements are used to execute different blocks of code depending on a specified condition. The basic syntax of an if-else statement in Python is as follows:\n",
    "\n",
    "```\n",
    "if condition:\n",
    "    # do something\n",
    "else:\n",
    "    # do something else\n",
    "\n",
    "```\n",
    "\n",
    "In this syntax, condition is a Boolean expression that determines which block of code should be executed. Here is an example of an if-else statement that checks if a number is even or odd:"
   ]
  },
  {
   "cell_type": "code",
   "execution_count": 5,
   "id": "cf0511af",
   "metadata": {},
   "outputs": [
    {
     "name": "stdout",
     "output_type": "stream",
     "text": [
      "Odd\n"
     ]
    }
   ],
   "source": [
    "num = 9\n",
    "if num % 2 == 0:\n",
    "    print(\"Even\")\n",
    "else:\n",
    "    print(\"Odd\")\n"
   ]
  },
  {
   "cell_type": "markdown",
   "id": "dfb6ec24",
   "metadata": {},
   "source": [
    "Note, more than a single if statement can be used, the format would be:\n",
    "\n",
    "```\n",
    "if condition:\n",
    "    # do something\n",
    "elif condition:\n",
    "    # do something\n",
    "else:\n",
    "    # do something else\n",
    "```\n",
    "\n",
    "Additionally, if the else statement is not needed, then it is not required to place it within the code if it performs no actions."
   ]
  },
  {
   "cell_type": "markdown",
   "id": "998cb992",
   "metadata": {},
   "source": [
    "### Exersizes\n",
    "\n",
    "The below set of exersizes aim to cover the first two topics of Python basics, and control structures. \n",
    "\n",
    "Useful methods to complete the exersizes, include the input function, used as below:\n",
    "\n",
    "```\n",
    "variable = input('text displayed to user')\n",
    "```\n",
    "\n",
    "The above code will allow the user to input information to the program. A code example is below. Please run it to get a felling for how the method works, this will be essential in the exersizes."
   ]
  },
  {
   "cell_type": "code",
   "execution_count": 4,
   "id": "b77b1e3d",
   "metadata": {},
   "outputs": [
    {
     "name": "stdout",
     "output_type": "stream",
     "text": [
      "What is your name? Travis\n",
      "Travis\n"
     ]
    }
   ],
   "source": [
    "name = input('What is your name? ')\n",
    "print(name)"
   ]
  },
  {
   "cell_type": "markdown",
   "id": "3044b582",
   "metadata": {},
   "source": [
    "1. Write a program that asks the user for their name and age, and then prints a message that says \"Hello, [name]! You are [age] years old.\""
   ]
  },
  {
   "cell_type": "code",
   "execution_count": null,
   "id": "14b155ef",
   "metadata": {},
   "outputs": [],
   "source": []
  },
  {
   "cell_type": "markdown",
   "id": "27225819",
   "metadata": {},
   "source": [
    "2. Write a program that asks the user to enter two numbers and then prints the sum, difference, product, and quotient of the two numbers."
   ]
  },
  {
   "cell_type": "code",
   "execution_count": null,
   "id": "046bfce1",
   "metadata": {},
   "outputs": [],
   "source": []
  },
  {
   "cell_type": "markdown",
   "id": "bb35faed",
   "metadata": {},
   "source": [
    "3. Write a program that asks the user to enter a temperature in Fahrenheit and then converts it to Celsius using the formula C = (F - 32) * 5/9. Print the result with two decimal places."
   ]
  },
  {
   "cell_type": "code",
   "execution_count": 31,
   "id": "ad21175c",
   "metadata": {},
   "outputs": [
    {
     "name": "stdout",
     "output_type": "stream",
     "text": [
      "?rhgigs aw\n",
      "10\n"
     ]
    }
   ],
   "source": [
    "test_string = \"what is going here?\"\n",
    "reversed_string = test_string[::-2]\n",
    "print(reversed_string)\n",
    "print(len(reversed_string))"
   ]
  },
  {
   "cell_type": "markdown",
   "id": "4e253c07",
   "metadata": {},
   "source": [
    "4. Write a program that asks the user to enter a string and then prints the string reversed."
   ]
  },
  {
   "cell_type": "code",
   "execution_count": null,
   "id": "9c9b2501",
   "metadata": {},
   "outputs": [],
   "source": []
  },
  {
   "cell_type": "markdown",
   "id": "b9aa471b",
   "metadata": {},
   "source": [
    "5. Write a program that generates a random number between 1 and 100 and then asks the user to guess the number. If the user's guess is too high, the program should print \"Too high!\" If the user's guess is too low, the program should print \"Too low!\" If the user's guess is correct, the program should print \"Congratulations, you guessed the number!\""
   ]
  },
  {
   "cell_type": "code",
   "execution_count": null,
   "id": "d0d92061",
   "metadata": {},
   "outputs": [],
   "source": []
  },
  {
   "cell_type": "markdown",
   "id": "4f7b1521",
   "metadata": {},
   "source": [
    "## Data Structures\n",
    "- Lists\n",
    "- Dictionaries\n",
    "- Tuples\n",
    "- Sets"
   ]
  },
  {
   "cell_type": "markdown",
   "id": "5ea4ad53",
   "metadata": {},
   "source": [
    "**Lists**\n",
    "\n",
    "A list is a collection of items, which can be of different data types. Lists are ordered, meaning that the items in a list have a specific order. Lists are mutable, meaning that you can add, remove, or modify items in a list after it has been created.\n",
    "Below is example code showcasing a few of the methods used to modify a list, and check its status. "
   ]
  },
  {
   "cell_type": "code",
   "execution_count": 37,
   "id": "01eeed2c",
   "metadata": {},
   "outputs": [
    {
     "name": "stdout",
     "output_type": "stream",
     "text": [
      "1\n",
      "6\n",
      "[1, 6, 'string', 4, 5]\n",
      "List length:  5\n",
      "5\n",
      "5\n"
     ]
    }
   ],
   "source": [
    "# Create a list of integers\n",
    "numbers = [1, 2.5, 'string', 4, 5]\n",
    "\n",
    "# Access a value at index\n",
    "print(numbers[0])\n",
    "\n",
    "# Alter value at index\n",
    "numbers[1] = 6\n",
    "print(numbers[1])\n",
    "print(numbers)\n",
    "\n",
    "\n",
    "# Determine the length of the list\n",
    "print(\"List length: \", len(numbers))\n",
    "\n",
    "print(numbers[-1])\n",
    "print(numbers[4])"
   ]
  },
  {
   "cell_type": "code",
   "execution_count": 38,
   "id": "4e5e173b",
   "metadata": {},
   "outputs": [
    {
     "name": "stdout",
     "output_type": "stream",
     "text": [
      "['apple', 'banana', 'cherry', 'orange', 'pineapple', 'grapefruit', 'pear']\n",
      "['apple', 'cherry', 'orange', 'pineapple', 'grapefruit', 'pear']\n",
      "['apple', 'cherry', 'orange', 'pineapple', 'grapefruit', 'pear']\n"
     ]
    }
   ],
   "source": [
    "# Create a list of strings\n",
    "fruits = [\"apple\", \"banana\", \"cherry\", \"orange\", \"pineapple\", \"grapefruit\"]\n",
    "\n",
    "# Add an item to the end of the list\n",
    "fruits.append(\"pear\")\n",
    "print(fruits)\n",
    "\n",
    "# Remove an item from the list\n",
    "fruits.remove(\"banana\")\n",
    "print(fruits)\n",
    "\n",
    "# Access an item in the list by index\n",
    "print(fruits)"
   ]
  },
  {
   "cell_type": "code",
   "execution_count": 11,
   "id": "abbd6882",
   "metadata": {},
   "outputs": [
    {
     "name": "stdout",
     "output_type": "stream",
     "text": [
      "apple\n",
      "cherry\n",
      "orange\n",
      "pineapple\n",
      "grapefruit\n",
      "pear\n"
     ]
    }
   ],
   "source": [
    "# Iterate over the items in the list\n",
    "for fruit in fruits:\n",
    "    print(fruit)"
   ]
  },
  {
   "cell_type": "markdown",
   "id": "4c3bf46e",
   "metadata": {},
   "source": [
    "**Dictionaries**\n",
    "\n",
    "A dictionary is a collection of key-value pairs. Each key in a dictionary maps to a value, so you can use the key to look up the corresponding value. Dictionaries are unordered, meaning that the items in a dictionary do not have a specific order. Dictionaries are mutable, meaning that you can add, remove, or modify key-value pairs in a dictionary after it has been created. Below is example code showcasing a few of the methods used to modify a dictionary, and check its status. "
   ]
  },
  {
   "cell_type": "code",
   "execution_count": 16,
   "id": "3f9e0ad2",
   "metadata": {},
   "outputs": [
    {
     "name": "stdout",
     "output_type": "stream",
     "text": [
      "{'Alice': 25, 'Bob': 30, 'Charlie': 35, 'David': 40}\n"
     ]
    }
   ],
   "source": [
    "# Create a dictionary of names and ages\n",
    "ages = {\"Alice\": 25, \"Bob\": 30, \"Charlie\": 35}\n",
    "\n",
    "# Add a new key-value pair to the dictionary\n",
    "ages[\"David\"] = 40\n",
    "\n",
    "print(ages)"
   ]
  },
  {
   "cell_type": "code",
   "execution_count": 17,
   "id": "e6d8f609",
   "metadata": {},
   "outputs": [
    {
     "name": "stdout",
     "output_type": "stream",
     "text": [
      "{'Alice': 25, 'Bob': 30, 'David': 40}\n"
     ]
    }
   ],
   "source": [
    "# Remove a key-value pair from the dictionary\n",
    "del ages[\"Charlie\"]\n",
    "print(ages)"
   ]
  },
  {
   "cell_type": "code",
   "execution_count": 18,
   "id": "6b6f679d",
   "metadata": {},
   "outputs": [
    {
     "name": "stdout",
     "output_type": "stream",
     "text": [
      "30\n"
     ]
    }
   ],
   "source": [
    "# Look up a value by key\n",
    "print(ages[\"Bob\"])"
   ]
  },
  {
   "cell_type": "code",
   "execution_count": 19,
   "id": "56812d61",
   "metadata": {},
   "outputs": [
    {
     "name": "stdout",
     "output_type": "stream",
     "text": [
      "Alice\n",
      "Bob\n",
      "David\n"
     ]
    }
   ],
   "source": [
    "# Iterate over the keys in the dictionary\n",
    "for name in ages:\n",
    "    print(name)"
   ]
  },
  {
   "cell_type": "code",
   "execution_count": 20,
   "id": "f6e81aee",
   "metadata": {},
   "outputs": [
    {
     "name": "stdout",
     "output_type": "stream",
     "text": [
      "25\n",
      "30\n",
      "40\n"
     ]
    }
   ],
   "source": [
    "# Iterate over the values in the dictionary\n",
    "for age in ages.values():\n",
    "    print(age)"
   ]
  },
  {
   "cell_type": "code",
   "execution_count": 21,
   "id": "5dc4870e",
   "metadata": {},
   "outputs": [
    {
     "name": "stdout",
     "output_type": "stream",
     "text": [
      "Alice 25\n",
      "Bob 30\n",
      "David 40\n"
     ]
    }
   ],
   "source": [
    "# Iterate over the key-value pairs in the dictionary\n",
    "for name, age in ages.items():\n",
    "    print(name, age)"
   ]
  },
  {
   "cell_type": "markdown",
   "id": "d6d7826f",
   "metadata": {},
   "source": [
    "**Tuples**\n",
    "\n",
    "A tuple is a collection of items, which can be of different data types. Tuples are ordered, meaning that the items in a tuple have a specific order. Tuples are immutable, meaning that you cannot add, remove, or modify items in a tuple after it has been created. Below is example code showcasing methods to create, and access a tuple."
   ]
  },
  {
   "cell_type": "code",
   "execution_count": 22,
   "id": "a06cbdfc",
   "metadata": {},
   "outputs": [
    {
     "name": "stdout",
     "output_type": "stream",
     "text": [
      "apple\n",
      "apple\n",
      "banana\n",
      "cherry\n",
      "orange\n",
      "pineapple\n",
      "grapefruit\n"
     ]
    }
   ],
   "source": [
    "# Create a tuple of integers\n",
    "numbers = (1, 2, 3, 4, 5)\n",
    "\n",
    "# Create a tuple of strings\n",
    "fruits = (\"apple\", \"banana\", \"cherry\", \"orange\", \"pineapple\", \"grapefruit\")\n",
    "\n",
    "# Access an item in the tuple by index\n",
    "print(fruits[0])\n",
    "\n",
    "# Iterate over the items in the tuple\n",
    "for fruit in fruits:\n",
    "    print(fruit)"
   ]
  },
  {
   "cell_type": "markdown",
   "id": "ce3a4980",
   "metadata": {},
   "source": [
    "**Sets**\n",
    "\n",
    "A set is a collection of unique items, which can be of different data types. Sets are unordered, meaning that the items in a set do not have a specific order. Sets are mutable, meaning that you can add or remove items in a set after it has been created."
   ]
  },
  {
   "cell_type": "code",
   "execution_count": 24,
   "id": "2465fa25",
   "metadata": {},
   "outputs": [],
   "source": [
    "# Create a set of integers\n",
    "numbers = {1, 2, 3, 4, 5}\n",
    "\n",
    "# Create a set of strings\n",
    "fruits = {\"apple\", \"banana\", \"cherry\", \"orange\"}"
   ]
  },
  {
   "cell_type": "code",
   "execution_count": 25,
   "id": "db90fb97",
   "metadata": {},
   "outputs": [
    {
     "name": "stdout",
     "output_type": "stream",
     "text": [
      "apple\n",
      "orange\n",
      "pear\n",
      "cherry\n"
     ]
    }
   ],
   "source": [
    "# Add an item to the set\n",
    "fruits.add(\"pear\")\n",
    "\n",
    "# Remove an item from the set\n",
    "fruits.remove(\"banana\")\n",
    "\n",
    "# Iterate over the items in the set\n",
    "for fruit in fruits:\n",
    "    print(fruit)"
   ]
  },
  {
   "cell_type": "markdown",
   "id": "a0114fb4",
   "metadata": {},
   "source": [
    "### Exersizes\n",
    "The below exersizes will require the use of the three prior sections in order to complete. There are multiple ways to complete the below exersizes, and no single right way. "
   ]
  },
  {
   "cell_type": "markdown",
   "id": "e53a4272",
   "metadata": {},
   "source": [
    "1. Write a program that takes a list of integers as input and outputs the sum of all the even numbers in the list. "
   ]
  },
  {
   "cell_type": "code",
   "execution_count": 27,
   "id": "6b1a3b46",
   "metadata": {},
   "outputs": [],
   "source": [
    "numbers = [1, 2, 3, 4, 5, 6, 7, 8, 9, 10]\n",
    "\n",
    "# code here..."
   ]
  },
  {
   "cell_type": "markdown",
   "id": "a719db2e",
   "metadata": {},
   "source": [
    "2. Write a program that takes a list of strings as input and outputs the number of strings that start with the letter \"a\".\n",
    "\n",
    "For this exersize, look up methods to be used on a string. \n",
    "A possible method that can be used to help solve this exersize is `string.startswith()`"
   ]
  },
  {
   "cell_type": "code",
   "execution_count": 26,
   "id": "f562f613",
   "metadata": {},
   "outputs": [],
   "source": [
    "fruits = [\"apple\", \"banana\", \"apricot\", \"orange\", \"avocado\", \"grapefruit\"]\n",
    "\n",
    "# code here"
   ]
  },
  {
   "cell_type": "markdown",
   "id": "87057879",
   "metadata": {},
   "source": [
    "3. Write a program that takes a dictionary of names and ages as input and outputs the name of the oldest person in the dictionary."
   ]
  },
  {
   "cell_type": "code",
   "execution_count": 28,
   "id": "968983ab",
   "metadata": {},
   "outputs": [],
   "source": [
    "ages = {\"Alice\": 25, \"Bob\": 30, \"Charlie\": 35, \"David\": 40}\n",
    "\n",
    "# code here..."
   ]
  },
  {
   "cell_type": "markdown",
   "id": "8c294e7e",
   "metadata": {},
   "source": [
    "4. Write a program that takes a dictionary of words and their frequencies as input and outputs the word with the highest frequency."
   ]
  },
  {
   "cell_type": "code",
   "execution_count": 30,
   "id": "953c5af2",
   "metadata": {},
   "outputs": [],
   "source": [
    "word_freq = {\"apple\": 3, \"banana\": 2, \"cherry\": 5, \"orange\": 4}\n",
    "\n",
    "# code here"
   ]
  },
  {
   "cell_type": "markdown",
   "id": "897c5aec",
   "metadata": {},
   "source": [
    "5. Write a program that takes a tuple of integers as input and outputs the product of all the numbers in the tuple.\n",
    "\n",
    "A possible avenue includes the use of the `*=`. Try is below to see how it works and can be applied to the exersize"
   ]
  },
  {
   "cell_type": "code",
   "execution_count": 31,
   "id": "8cfb219b",
   "metadata": {},
   "outputs": [
    {
     "name": "stdout",
     "output_type": "stream",
     "text": [
      "10\n"
     ]
    }
   ],
   "source": [
    "product = 5\n",
    "\n",
    "product *= 2\n",
    "print(product)"
   ]
  },
  {
   "cell_type": "code",
   "execution_count": 32,
   "id": "ba4c953e",
   "metadata": {},
   "outputs": [],
   "source": [
    "numbers = (1, 2, 3, 4, 5)"
   ]
  },
  {
   "cell_type": "markdown",
   "id": "dc57f81b",
   "metadata": {},
   "source": [
    "6. Write a program that takes a tuple of strings as input and outputs the number of strings that have more than 5 characters."
   ]
  },
  {
   "cell_type": "code",
   "execution_count": 33,
   "id": "c41b3287",
   "metadata": {},
   "outputs": [],
   "source": [
    " "
   ]
  },
  {
   "cell_type": "markdown",
   "id": "bc8271ca",
   "metadata": {},
   "source": [
    "7. Write a program that takes two sets of integers as input and outputs a set containing only the common elements between the two sets.\n",
    "\n",
    "For this exersize, look into the `set.intersection()` method."
   ]
  },
  {
   "cell_type": "code",
   "execution_count": null,
   "id": "359ad33f",
   "metadata": {},
   "outputs": [],
   "source": [
    "set1 = {1, 2, 3, 4, 5}\n",
    "set2 = {4, 5, 6, 7, 8}"
   ]
  },
  {
   "cell_type": "markdown",
   "id": "1f48250b",
   "metadata": {},
   "source": [
    "## Python Input Output\n",
    "- Basic interactive input and outputs\n",
    "- Writing to and reading from a file"
   ]
  },
  {
   "cell_type": "markdown",
   "id": "93f11f87",
   "metadata": {},
   "source": [
    "**Basic input and output**\n",
    "\n",
    "The basic Python input/ outputs include: \n",
    "- `print(\"\")`\n",
    "- `input()`"
   ]
  },
  {
   "cell_type": "code",
   "execution_count": 2,
   "id": "0baaa07c",
   "metadata": {},
   "outputs": [
    {
     "name": "stdout",
     "output_type": "stream",
     "text": [
      "Hello world\n"
     ]
    }
   ],
   "source": [
    "print(\"Hello world\")"
   ]
  },
  {
   "cell_type": "code",
   "execution_count": 3,
   "id": "660bff7f",
   "metadata": {},
   "outputs": [
    {
     "name": "stdout",
     "output_type": "stream",
     "text": [
      "Enter your nameTravis\n",
      "Hi, Travis\n"
     ]
    }
   ],
   "source": [
    "name = input(\"Enter your name\")\n",
    "print(\"Hi, \" + name)"
   ]
  },
  {
   "cell_type": "markdown",
   "id": "51a84d14",
   "metadata": {},
   "source": [
    "**Files**\n",
    "\n",
    "**Writing**\n",
    "Please utilize this link to learn a more comprehensive background on files: https://www.w3schools.com/python/python_file_handling.asp \n",
    "\n",
    "To write data to a file in Python, you first need to open the file using the open() function. The `open()` function takes two arguments: the name of the file to be opened, and the mode in which the file is to be opened.\n",
    "\n",
    "\n",
    "In the below example please note that the file must exist before openning it.\n",
    "```\n",
    "# Open a file for writing\n",
    "file = open(\"output.txt\", \"w\")\n",
    "\n",
    "# Write data to the file\n",
    "file.write(\"Hello, world!\")\n",
    "\n",
    "# Close the file\n",
    "file.close()\n",
    "\n",
    "```\n",
    "\n",
    "In the example above, the `open()` function is used to open a file named `\"output.txt\"` for writing. The file is opened in \"write\" mode, indicated by the \"w\" argument. The `write()` method is then used to write the string \"Hello, world!\" to the file. Finally, `the close()` method is used to close the file.\n",
    "\n",
    "**Reading**\n",
    "To read data from a file in Python, you first need to open the file using the `open()` function. The `open()` function takes two arguments: the name of the file to be opened, and the mode in which the file is to be opened.\n",
    "\n",
    "```\n",
    "# Open a file for reading\n",
    "file = open(\"input.txt\", \"r\")\n",
    "\n",
    "# Read data from the file\n",
    "data = file.read()\n",
    "\n",
    "# Close the file\n",
    "file.close()\n",
    "\n",
    "# Display the data\n",
    "print(data)\n",
    "\n",
    "```\n",
    "\n",
    "In the example above, the open() function is used to open a file named \"input.txt\" for reading. The file is opened in \"read\" mode, indicated by the \"r\" argument. The read() method is then used to read the contents of the file into a variable named data. Finally, the `close()` method is used to close the file, and the print() function is used to display the contents of the file to the console."
   ]
  },
  {
   "cell_type": "markdown",
   "id": "d928d2b0",
   "metadata": {},
   "source": [
    "### Input and Output Exersizes"
   ]
  },
  {
   "cell_type": "markdown",
   "id": "43e90fd2",
   "metadata": {},
   "source": [
    "1. Read in the `data.txt` file from `cache/` directory. Please change the sign of the each number being read in, and multiple the changed number by 7$\\pi$. Please display (print) the original and transformed numbers. Additionally please write the transformed numbers to a new file `data_transformed.txt`"
   ]
  },
  {
   "cell_type": "code",
   "execution_count": null,
   "id": "00f18d89",
   "metadata": {},
   "outputs": [],
   "source": []
  },
  {
   "cell_type": "markdown",
   "id": "db42fb67",
   "metadata": {},
   "source": [
    "## Functions"
   ]
  },
  {
   "cell_type": "markdown",
   "id": "5d53aff0",
   "metadata": {},
   "source": [
    "### Function Definition and Syntax\n",
    "A function in Python is a block of reusable code that performs a specific task. It helps in organizing code and promoting code reusability. Here's the general syntax for defining a function:"
   ]
  },
  {
   "cell_type": "code",
   "execution_count": null,
   "id": "0cfcb122",
   "metadata": {},
   "outputs": [],
   "source": [
    "def function_name(parameters):\n",
    "    \"\"\"Optional docstring describing the function.\"\"\"\n",
    "    # Function body - code that is executed when the function is called\n",
    "    # Return statement (optional)"
   ]
  },
  {
   "cell_type": "markdown",
   "id": "ad995167",
   "metadata": {},
   "source": [
    "- def is the keyword used to define a function.\n",
    "- function_name is the name you give to the function.\n",
    "- parameters are optional inputs that can be passed to the function.\n",
    "- The docstring is an optional description of the function's purpose, which can be accessed using function_name.__doc__.\n",
    "- The function body contains the code that is executed when the function is called.\n",
    "- The return statement, if used, specifies the value that the function will return (ends the function execution)."
   ]
  },
  {
   "cell_type": "markdown",
   "id": "90ed515c",
   "metadata": {},
   "source": [
    "#### Functions as a Recipe Analogy"
   ]
  },
  {
   "cell_type": "markdown",
   "id": "d1a2b352",
   "metadata": {},
   "source": [
    "**Function**: A function in Python is like a cooking recipe. It's a set of instructions that you define to perform a specific task. Just as a recipe consists of a list of steps to create a dish, a function consists of a series of statements that execute when the function is called.\n",
    "\n",
    "**Function Name**: Think of the function name as the name of the dish you're making. It's a unique identifier that you use to refer to the set of instructions you've defined.\n",
    "\n",
    "**Parameters**: Parameters are like the ingredients listed in a recipe. They are values that you pass to the function, which the function can then use to perform its task. Parameters provide the necessary information for the function to work correctly.\n",
    "\n",
    "**Return Value**: The return value of a function is like the finished dish you get after following a recipe. It's the result that the function produces and sends back to the caller. Just as a recipe might produce a delicious cake, a function might produce a calculated value or perform a specific action.\n",
    "\n",
    "**Function Definition**: Defining a function is like writing down a cooking recipe. You specify the steps (statements) that need to be executed in order when the function is called.\n",
    "\n",
    "**Function Call**: Calling a function is like actually following a recipe to make the dish. When you call a function, you're instructing Python to execute the statements defined within the function.\n",
    "\n",
    "**Example**:\n",
    "Let's say we have a function that calculates the total cost of ingredients for a recipe:"
   ]
  },
  {
   "cell_type": "code",
   "execution_count": 5,
   "id": "1be2cb65",
   "metadata": {},
   "outputs": [],
   "source": [
    "def calculate_total_cost(ingredient_costs):\n",
    "    total_cost = sum(ingredient_costs)\n",
    "    return total_cost"
   ]
  },
  {
   "cell_type": "markdown",
   "id": "3f7458d8",
   "metadata": {},
   "source": [
    "In this analogy:\n",
    "\n",
    "- The function name calculate_total_cost is like the name of the dish we're making.\n",
    "- The ingredient_costs parameter is like the list of ingredients we provide in a recipe.\n",
    "- The sum(ingredient_costs) statement calculates the total cost, similar to adding up ingredient prices.\n",
    "- The return total_cost statement is like serving the finished dish as the result.\n",
    "\n",
    "When we call the function:"
   ]
  },
  {
   "cell_type": "code",
   "execution_count": 2,
   "id": "94210c58",
   "metadata": {},
   "outputs": [
    {
     "name": "stdout",
     "output_type": "stream",
     "text": [
      "The total cost is $10.50\n"
     ]
    }
   ],
   "source": [
    "ingredients = [5.0, 2.0, 3.5]\n",
    "total = calculate_total_cost(ingredients)\n",
    "print(f\"The total cost is ${total:.2f}\")"
   ]
  },
  {
   "cell_type": "markdown",
   "id": "113f890e",
   "metadata": {},
   "source": [
    "This is similar to:\n",
    "\n",
    "- Gathering the ingredients (values) needed for the recipe.\n",
    "- Following the instructions in the recipe (function) to calculate the total cost.\n",
    "- Displaying the finished dish (result) which, in this case, is the calculated total cost.\n",
    "\n",
    "In summary, just as a cooking recipe guides you through creating a dish, a Python function guides you through performing a specific task in your code by encapsulating a set of instructions."
   ]
  },
  {
   "cell_type": "markdown",
   "id": "55b8908f",
   "metadata": {},
   "source": [
    "### Understanding Parameters"
   ]
  },
  {
   "cell_type": "markdown",
   "id": "d7ce7251",
   "metadata": {},
   "source": [
    "##### Pass by VALUE"
   ]
  },
  {
   "cell_type": "code",
   "execution_count": 7,
   "id": "811d53a1",
   "metadata": {},
   "outputs": [
    {
     "name": "stdout",
     "output_type": "stream",
     "text": [
      "10\n",
      "20\n",
      "10\n"
     ]
    }
   ],
   "source": [
    "number = 10\n",
    "\n",
    "def multiplier(x, multiplicator):\n",
    "    x = x * multiplicator\n",
    "    return x\n",
    "\n",
    "print(number)\n",
    "print(multiplier(x=number, multiplicator=2))\n",
    "print(number)"
   ]
  },
  {
   "cell_type": "markdown",
   "id": "7712880a",
   "metadata": {},
   "source": [
    "##### Pass by REFERENCE"
   ]
  },
  {
   "cell_type": "code",
   "execution_count": 11,
   "id": "f434a625",
   "metadata": {},
   "outputs": [
    {
     "name": "stdout",
     "output_type": "stream",
     "text": [
      "['eggs', 'bacon', 'muffin']\n",
      "['eggs', 'bacon', 'muffin']\n",
      "Omelette\n",
      "['eggs', 'bacon', 'muffin', 'Cheese']\n"
     ]
    }
   ],
   "source": [
    "ingredients = [\"eggs\", \"bacon\", \"muffin\"]\n",
    "\n",
    "def cook(ingredients):\n",
    "    ingredients.append(\"Cheese\")\n",
    "    return \"Omelette\"\n",
    "\n",
    "print(ingredients)\n",
    "print(cook(ingredients=ingredients))\n",
    "print(ingredients)"
   ]
  },
  {
   "cell_type": "markdown",
   "id": "709e80ce",
   "metadata": {},
   "source": [
    "### Function Examples"
   ]
  },
  {
   "cell_type": "markdown",
   "id": "04a19f81",
   "metadata": {},
   "source": [
    "**Example 1:** A simple function that adds two numbers"
   ]
  },
  {
   "cell_type": "code",
   "execution_count": 2,
   "id": "2fe16a20",
   "metadata": {},
   "outputs": [],
   "source": [
    "def add_numbers(a, b):\n",
    "    \"\"\"Adds two numbers and returns the result.\"\"\"\n",
    "    return a + b\n"
   ]
  },
  {
   "cell_type": "code",
   "execution_count": 5,
   "id": "1b88ac3c",
   "metadata": {},
   "outputs": [
    {
     "name": "stdout",
     "output_type": "stream",
     "text": [
      "22\n"
     ]
    }
   ],
   "source": [
    "result = add_numbers(10, 12)\n",
    "print(result)"
   ]
  },
  {
   "cell_type": "markdown",
   "id": "a7d86f16",
   "metadata": {},
   "source": [
    "**Example 2:** In this example, we'll define a function that calculates the area of a rectangle. It has default parameter values for width and height, which can be overridden if desired."
   ]
  },
  {
   "cell_type": "code",
   "execution_count": 14,
   "id": "7b822433",
   "metadata": {},
   "outputs": [],
   "source": [
    "def calculate_area(width=5, height=10):\n",
    "    \"\"\"Calculates the area of a rectangle.\"\"\"\n",
    "    return width * height\n"
   ]
  },
  {
   "cell_type": "code",
   "execution_count": 15,
   "id": "7e764bc6",
   "metadata": {},
   "outputs": [
    {
     "name": "stdout",
     "output_type": "stream",
     "text": [
      "50\n"
     ]
    }
   ],
   "source": [
    "area_default = calculate_area()\n",
    "print(area_default)"
   ]
  },
  {
   "cell_type": "code",
   "execution_count": 16,
   "id": "ef7affc1",
   "metadata": {},
   "outputs": [
    {
     "name": "stdout",
     "output_type": "stream",
     "text": [
      "25\n"
     ]
    }
   ],
   "source": [
    "area_overridden = calculate_area(5, 5)\n",
    "print(area_overridden)"
   ]
  },
  {
   "cell_type": "markdown",
   "id": "d090532e",
   "metadata": {},
   "source": [
    "**Example 3:** A function with a variable number of arguments.\n",
    "Sometimes, we may need to pass a variable number of arguments to a function. We can achieve this using *args or **kwargs."
   ]
  },
  {
   "cell_type": "code",
   "execution_count": 11,
   "id": "a8127d18",
   "metadata": {},
   "outputs": [],
   "source": [
    "def print_arguments(*args):  # Args takes the form of a list when accessing the passed arguments\n",
    "    \"\"\"Prints all the arguments passed to the function.\"\"\"\n",
    "    for arg in args:\n",
    "        print(arg)\n",
    "\n",
    "def print_keyword_arguments(**kwargs):\n",
    "    \"\"\"Prints all the keyword arguments passed to the function.\"\"\"\n",
    "    for key, value in kwargs.items():\n",
    "        print(key, value)\n"
   ]
  },
  {
   "cell_type": "code",
   "execution_count": 13,
   "id": "119488a8",
   "metadata": {},
   "outputs": [
    {
     "name": "stdout",
     "output_type": "stream",
     "text": [
      "10\n",
      "Hello\n"
     ]
    }
   ],
   "source": [
    "print_arguments(10, \"Hello\")"
   ]
  },
  {
   "cell_type": "code",
   "execution_count": 14,
   "id": "654f2282",
   "metadata": {},
   "outputs": [
    {
     "name": "stdout",
     "output_type": "stream",
     "text": [
      "key 10\n",
      "value Hello\n"
     ]
    }
   ],
   "source": [
    "print_keyword_arguments(key=10, value=\"Hello\")"
   ]
  },
  {
   "cell_type": "markdown",
   "id": "373e13b9",
   "metadata": {},
   "source": [
    "### Exersizes"
   ]
  },
  {
   "cell_type": "markdown",
   "id": "312ee377",
   "metadata": {},
   "source": [
    "#### Exersize 1 \n",
    "Write a function called count_occurrences that takes a list of numbers and a target number as arguments. The function should return the number of times the target number appears in the list."
   ]
  },
  {
   "cell_type": "code",
   "execution_count": null,
   "id": "0f965498",
   "metadata": {},
   "outputs": [],
   "source": [
    "def count_occurrences(numbers, target):\n",
    "    \"\"\"Counts the occurrences of a target number in a list.\"\"\"\n",
    "    # Please put your code below\n",
    "    \n"
   ]
  },
  {
   "cell_type": "code",
   "execution_count": 15,
   "id": "9eab1f5c",
   "metadata": {},
   "outputs": [],
   "source": [
    "# Test your method using the below numbers and target\n",
    "numbers = [1, 2, 3, 4, 2, 2, 5]\n",
    "target = 2\n",
    "\n",
    "# The expected result is 3\n",
    "assert(count_occurrences(numbers, target) == 3)"
   ]
  },
  {
   "cell_type": "code",
   "execution_count": null,
   "id": "3ca30d23",
   "metadata": {},
   "outputs": [],
   "source": []
  },
  {
   "cell_type": "markdown",
   "id": "8f43d749",
   "metadata": {},
   "source": [
    "#### Exersize 2:\n",
    "Calculate Factorial (Without Recursion):\n",
    "Write a function to calculate the factorial of a given positive integer without using recursion.\n",
    "\n",
    "A factorial is a mathematical operation that involves multiplying a positive integer by all the positive integers smaller than itself down to 1. It's represented using the exclamation mark (!). For example, the factorial of a positive integer n is denoted as n! and is calculated as:\n",
    "\n",
    "```\n",
    "n! = n * (n - 1) * (n - 2) * ... * 2 * 1\n",
    "```\n",
    "\n",
    "or a real world example: \n",
    "\n",
    "```\n",
    "5! = 5 * 4 * 3 * 2 * 1\n",
    "```"
   ]
  },
  {
   "cell_type": "code",
   "execution_count": 3,
   "id": "5a5e52df",
   "metadata": {},
   "outputs": [],
   "source": [
    "def factorial(n):\n",
    "    # Code here\n",
    "    return 0"
   ]
  },
  {
   "cell_type": "markdown",
   "id": "17b39830",
   "metadata": {},
   "source": [
    "The below piece of code checks that you have correctly implemented the code. If this fails, please look at your function again."
   ]
  },
  {
   "cell_type": "code",
   "execution_count": null,
   "id": "92e3bbd6",
   "metadata": {},
   "outputs": [],
   "source": [
    "assert(factorial(5) == 120)"
   ]
  },
  {
   "cell_type": "markdown",
   "id": "1f0968f4",
   "metadata": {},
   "source": [
    "#### Exersize 3\n",
    "Write a function that checks whether a given positive integer is a prime number or not.\n",
    "A prime number is a number which is only divisible by 1 and itself. Examples of prime numbers include: 2, 3, 5, 7, 13, 17, 19, ...\n",
    "This is a harder exersize, for this reason I have include a solution below. Please attempt this exersize without using the solution. "
   ]
  },
  {
   "cell_type": "code",
   "execution_count": 6,
   "id": "20dc44ef",
   "metadata": {},
   "outputs": [],
   "source": [
    "def is_prime(number):\n",
    "    # Code here\n",
    "    return False"
   ]
  },
  {
   "cell_type": "code",
   "execution_count": null,
   "id": "fcc1ee45",
   "metadata": {},
   "outputs": [],
   "source": [
    "assert(is_prime(17) == True)"
   ]
  },
  {
   "cell_type": "markdown",
   "id": "dd8e20d8",
   "metadata": {},
   "source": [
    "**Don't look**"
   ]
  },
  {
   "cell_type": "markdown",
   "id": "e552afd9",
   "metadata": {},
   "source": [
    "**Don't look**"
   ]
  },
  {
   "cell_type": "markdown",
   "id": "68ed2ffc",
   "metadata": {},
   "source": [
    "**Don't look**"
   ]
  },
  {
   "cell_type": "markdown",
   "id": "d1f24504",
   "metadata": {},
   "source": [
    "**Solution**"
   ]
  },
  {
   "cell_type": "code",
   "execution_count": 5,
   "id": "8990a091",
   "metadata": {},
   "outputs": [
    {
     "name": "stdout",
     "output_type": "stream",
     "text": [
      "17 is a prime number.\n"
     ]
    }
   ],
   "source": [
    "def is_prime(number):\n",
    "    if number <= 1:\n",
    "        return False\n",
    "    if number <= 3:\n",
    "        return True\n",
    "    if number % 2 == 0 or number % 3 == 0:\n",
    "        return False\n",
    "\n",
    "    i = 5\n",
    "    while i * i <= number:\n",
    "        if number % i == 0:\n",
    "            return False\n",
    "        i += 2  # Only check odd divisors\n",
    "\n",
    "    return True\n",
    "\n",
    "# Test the function\n",
    "num = 17\n",
    "if is_prime(num):\n",
    "    print(f\"{num} is a prime number.\")\n",
    "else:\n",
    "    print(f\"{num} is not a prime number.\")\n"
   ]
  }
 ],
 "metadata": {
  "kernelspec": {
   "display_name": "Mimic-1",
   "language": "python",
   "name": "mimic-1"
  },
  "language_info": {
   "codemirror_mode": {
    "name": "ipython",
    "version": 3
   },
   "file_extension": ".py",
   "mimetype": "text/x-python",
   "name": "python",
   "nbconvert_exporter": "python",
   "pygments_lexer": "ipython3",
   "version": "3.10.12"
  }
 },
 "nbformat": 4,
 "nbformat_minor": 5
}
