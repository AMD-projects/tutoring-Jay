{
 "cells": [
  {
   "cell_type": "markdown",
   "id": "4b1c026c",
   "metadata": {},
   "source": [
    "# Introduction to Python\n",
    "This Notebook will serve as an introduction to Python programming language. \n",
    "This notebook is used to supplement my tutoring lessons, and enable students to start using Python is a responsive environment in which you can directly see the results of your code. \n",
    "\n",
    "Please note, the creation of this notebook was aided by the use of ChatGPT3, and my own modifications to the suggestions, and my personal experience and knowledge."
   ]
  },
  {
   "cell_type": "markdown",
   "id": "b91d8043",
   "metadata": {},
   "source": [
    "## Python Basics\n",
    "- **Basic datatypes**\n",
    "- **Variables**\n",
    "- **Operators**"
   ]
  },
  {
   "cell_type": "markdown",
   "id": "3fe74c24",
   "metadata": {},
   "source": [
    "#### Variables\n",
    "Variables are used to store data values. To create a variable, you simply give it a name and assign it a value using the = operator. For example"
   ]
  },
  {
   "cell_type": "code",
   "execution_count": 9,
   "id": "8d344b27",
   "metadata": {},
   "outputs": [],
   "source": [
    "x = 10"
   ]
  },
  {
   "cell_type": "markdown",
   "id": "e8e6a3ee",
   "metadata": {},
   "source": [
    "In the above, x is the variable name, and the value assigned to is is 10."
   ]
  },
  {
   "cell_type": "markdown",
   "id": "5f9e7934",
   "metadata": {},
   "source": [
    "#### Operators\n",
    " Operators are used to perform operations on values and variables. Some of the common operators in Python are:\n",
    " - Arithmetic Operators:\n",
    "     - Arithmetic Operators: +, -, *, /, // (floor division), % (modulo)\n",
    "     - Comparison Operators ==, !=, <, >, <=, >=\n",
    "     - Logical Operators: `and`, `or`, `not`\n",
    "     - Expressions"
   ]
  },
  {
   "cell_type": "markdown",
   "id": "16b9e8a4",
   "metadata": {},
   "source": [
    "Numerical Operators"
   ]
  },
  {
   "cell_type": "code",
   "execution_count": 10,
   "id": "7d5d0025",
   "metadata": {},
   "outputs": [
    {
     "name": "stdout",
     "output_type": "stream",
     "text": [
      "7\n",
      "3\n",
      "10\n",
      "2.5\n",
      "2\n",
      "1\n"
     ]
    }
   ],
   "source": [
    "x = 5\n",
    "y = 2\n",
    "print(x + y)  # Output: 7\n",
    "print(x - y)  # Output: 3\n",
    "print(x * y)  # Output: 10\n",
    "print(x / y)  # Output: 2.5\n",
    "print(x // y)  # Output: 2\n",
    "print(x % y)  # Output: 1"
   ]
  },
  {
   "cell_type": "markdown",
   "id": "40212239",
   "metadata": {},
   "source": [
    "Comparison Operators"
   ]
  },
  {
   "cell_type": "code",
   "execution_count": 11,
   "id": "f0b6ee21",
   "metadata": {},
   "outputs": [
    {
     "name": "stdout",
     "output_type": "stream",
     "text": [
      "False\n",
      "True\n",
      "False\n",
      "True\n",
      "False\n",
      "True\n"
     ]
    }
   ],
   "source": [
    "x = 5\n",
    "y = 2\n",
    "print(x == y)  # Output: False\n",
    "print(x != y)  # Output: True\n",
    "print(x < y)  # Output: False\n",
    "print(x > y)  # Output: True\n",
    "print(x <= y)  # Output: False\n",
    "print(x >= y)  # Output: True"
   ]
  },
  {
   "cell_type": "markdown",
   "id": "ccfdc9b4",
   "metadata": {},
   "source": [
    "Logical Operators:"
   ]
  },
  {
   "cell_type": "code",
   "execution_count": 12,
   "id": "b3b5f840",
   "metadata": {},
   "outputs": [
    {
     "name": "stdout",
     "output_type": "stream",
     "text": [
      "True\n",
      "True\n",
      "False\n"
     ]
    }
   ],
   "source": [
    "x = 5\n",
    "y = 2\n",
    "z = 3\n",
    "print(x > y and x > z)  # Output: True\n",
    "print(x > y or x < z)  # Output: True\n",
    "print(not(x > y and x > z))  # Output: False"
   ]
  },
  {
   "cell_type": "markdown",
   "id": "7513d92b",
   "metadata": {},
   "source": [
    "Expressions"
   ]
  },
  {
   "cell_type": "code",
   "execution_count": 13,
   "id": "c4f8543d",
   "metadata": {},
   "outputs": [
    {
     "name": "stdout",
     "output_type": "stream",
     "text": [
      "7\n"
     ]
    }
   ],
   "source": [
    "x = 5\n",
    "y = 2\n",
    "z = x + y\n",
    "print(z)  # Output: 7"
   ]
  },
  {
   "cell_type": "markdown",
   "id": "fc09615b",
   "metadata": {},
   "source": [
    "#### Basic Data Types\n",
    "1. Numeric Types\n",
    "\n",
    "Python supports different types of numeric values such as integers, floating-point numbers, and complex numbers. Integers are whole numbers, while floating-point numbers have decimal places. Complex numbers consist of a real and imaginary part. For example:"
   ]
  },
  {
   "cell_type": "code",
   "execution_count": 2,
   "id": "8544873c",
   "metadata": {},
   "outputs": [],
   "source": [
    "# Integer\n",
    "x = 5\n",
    "\n",
    "# Float\n",
    "y = 3.5\n",
    "\n",
    "# Complex\n",
    "z = 4 + 5j"
   ]
  },
  {
   "cell_type": "markdown",
   "id": "751dca7a",
   "metadata": {},
   "source": [
    "2. Boolean type\n",
    "\n",
    "The Boolean data type has only two possible values: True and False. Boolean values are often used in conditional statements and loops. For example:"
   ]
  },
  {
   "cell_type": "code",
   "execution_count": 3,
   "id": "87ab64a5",
   "metadata": {},
   "outputs": [],
   "source": [
    "a = True\n",
    "b = False"
   ]
  },
  {
   "cell_type": "markdown",
   "id": "17aa697a",
   "metadata": {},
   "source": [
    "3. Strings\n",
    "\n",
    "Strings are used to represent text data in Python. Strings are created by enclosing the text within quotes (single or double). For example:"
   ]
  },
  {
   "cell_type": "code",
   "execution_count": 5,
   "id": "32a0c604",
   "metadata": {},
   "outputs": [
    {
     "name": "stdout",
     "output_type": "stream",
     "text": [
      "Hello, Travis!\n"
     ]
    }
   ],
   "source": [
    "name = \"Travis\"\n",
    "message = 'Hello, ' + name + '!'\n",
    "print(message)"
   ]
  },
  {
   "cell_type": "markdown",
   "id": "3395ed11",
   "metadata": {},
   "source": [
    "4. Lists\n",
    "\n",
    "A list is a collection of values that are ordered and changeable. Lists are created by enclosing the values within square brackets and separating them with commas. For example:"
   ]
  },
  {
   "cell_type": "code",
   "execution_count": 6,
   "id": "d7c4cdc1",
   "metadata": {},
   "outputs": [
    {
     "name": "stdout",
     "output_type": "stream",
     "text": [
      "['apple', 'banana', 'cherry']\n"
     ]
    }
   ],
   "source": [
    "fruits = ['apple', 'banana', 'cherry']\n",
    "print(fruits)"
   ]
  },
  {
   "cell_type": "markdown",
   "id": "1842cac2",
   "metadata": {},
   "source": [
    "5. Tuples\n",
    "\n",
    "Tuples are similar to lists but are immutable, meaning their values cannot be changed once created. Tuples are created by enclosing the values within parentheses and separating them with commas. For example:"
   ]
  },
  {
   "cell_type": "code",
   "execution_count": 7,
   "id": "909c61f8",
   "metadata": {},
   "outputs": [
    {
     "name": "stdout",
     "output_type": "stream",
     "text": [
      "('John', 25, 'male')\n"
     ]
    }
   ],
   "source": [
    "person = ('John', 25, 'male')\n",
    "print(person)"
   ]
  },
  {
   "cell_type": "markdown",
   "id": "0389a8d8",
   "metadata": {},
   "source": [
    "6. Dictionaries\n",
    "\n",
    "Dictionaries are used to store key-value pairs, where each key is unique. Dictionaries are created by enclosing the key-value pairs within curly braces and separating them with commas. For example:"
   ]
  },
  {
   "cell_type": "code",
   "execution_count": 8,
   "id": "9a059b11",
   "metadata": {},
   "outputs": [
    {
     "name": "stdout",
     "output_type": "stream",
     "text": [
      "{'name': 'John', 'age': 25, 'gender': 'male'}\n"
     ]
    }
   ],
   "source": [
    "person = {'name': 'John', 'age': 25, 'gender': 'male'}\n",
    "print(person)"
   ]
  }
 ],
 "metadata": {
  "kernelspec": {
   "display_name": "Python 3 (ipykernel)",
   "language": "python",
   "name": "python3"
  },
  "language_info": {
   "codemirror_mode": {
    "name": "ipython",
    "version": 3
   },
   "file_extension": ".py",
   "mimetype": "text/x-python",
   "name": "python",
   "nbconvert_exporter": "python",
   "pygments_lexer": "ipython3",
   "version": "3.10.6"
  }
 },
 "nbformat": 4,
 "nbformat_minor": 5
}
