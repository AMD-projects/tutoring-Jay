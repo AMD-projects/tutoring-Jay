{
 "cells": [
  {
   "cell_type": "code",
   "execution_count": 1,
   "id": "72010968",
   "metadata": {},
   "outputs": [],
   "source": [
    "# Imports"
   ]
  },
  {
   "cell_type": "markdown",
   "id": "e2e2816c",
   "metadata": {},
   "source": [
    "# Object Oriented Programming (OOP)\n",
    "Object-Oriented Programming (OOP) is a programming paradigm that revolves around the concept of \"objects,\" which are instances of classes. It allows you to model real-world entities as software objects, encapsulating both data and the methods (functions) that operate on that data. OOP promotes modularity, reusability, and a clearer structure in your code.\n",
    "\n",
    "The key concepts in OOP are:\n",
    "\n",
    "1. **Classes and Objects**: A class is a blueprint or template for creating objects. It defines the properties (attributes) and behaviors (methods) that the objects will have. An object is an instance of a class.\n",
    "\n",
    "2. **Attributes and Properties**: These are the data members of a class, representing the characteristics of an object. They can be variables of various types.\n",
    "\n",
    "3. **Methods**: Methods are functions defined within a class that operate on the class's data. They define the behavior of the objects created from that class.\n",
    "\n",
    "4. **Encapsulation**: This is the concept of bundling data (attributes) and methods that operate on that data into a single unit (class). It provides control over access to the internal data of an object, promoting data hiding and abstraction.\n",
    "\n",
    "5. **Inheritance**: Inheritance allows you to create a new class (subclass or derived class) that inherits properties and behaviors from an existing class (superclass or base class). It facilitates code reuse and specialization.\n",
    "\n",
    "6. **Polymorphism**: Polymorphism allows objects of different classes to be treated as objects of a common superclass. It enables dynamic method binding and flexibility in implementation.\n",
    "\n",
    "7. **Abstraction**: Abstraction involves simplifying complex reality by modeling classes based on relevant attributes and behaviors. It hides the unnecessary details and exposes only the necessary features."
   ]
  },
  {
   "cell_type": "markdown",
   "id": "6b256634",
   "metadata": {},
   "source": [
    "## Simple Example"
   ]
  },
  {
   "cell_type": "code",
   "execution_count": 6,
   "id": "45f04961",
   "metadata": {},
   "outputs": [],
   "source": [
    "class Person:\n",
    "    def __init__(self, name, age):\n",
    "        self.name = name\n",
    "        self.age = age\n",
    "\n",
    "    def greet(self):\n",
    "        print(f\"Hello, my name is {self.name} and I am {self.age} years old.\")"
   ]
  },
  {
   "cell_type": "code",
   "execution_count": 3,
   "id": "d34214ac",
   "metadata": {},
   "outputs": [
    {
     "name": "stdout",
     "output_type": "stream",
     "text": [
      "Alice\n",
      "25\n",
      "Hello, my name is Alice and I am 30 years old.\n",
      "Hello, my name is Bob and I am 25 years old.\n"
     ]
    }
   ],
   "source": [
    "# Create objects (instances) of the 'Person' class\n",
    "person1 = Person(\"Alice\", 30)\n",
    "person2 = Person(\"Bob\", 25)\n",
    "\n",
    "# Accessing attributes\n",
    "print(person1.name)  # Output: Alice\n",
    "print(person2.age)   # Output: 25\n",
    "\n",
    "# Calling methods\n",
    "person1.greet()  # Output: Hello, my name is Alice and I am 30 years old.\n",
    "person2.greet()  # Output: Hello, my name is Bob and I am 25 years old.\n"
   ]
  },
  {
   "cell_type": "markdown",
   "id": "f8e8bc95",
   "metadata": {},
   "source": [
    "In this example:\n",
    "\n",
    "- **Person** is a class with the attributes name and age, and the method greet().\n",
    "- **person1** and **person2** are objects of the **Person class**.\n",
    "- The **__init__ method** is the **constructor** that initializes the object's attributes when it's created.\n",
    "- **greet()** is a method that prints a greeting using the object's attributes."
   ]
  },
  {
   "cell_type": "markdown",
   "id": "c13b45b5",
   "metadata": {},
   "source": [
    "## 1. Classes and Objects\n",
    "#### Classes:\n",
    "A class is a blueprint or template that defines the structure and behavior of objects. It serves as a **prototype/template** for creating objects of that class. In a class, you define attributes (data members) and methods (functions) that the objects will possess. These attributes and methods collectively encapsulate the behavior and characteristics of the real-world entity you're modeling.\n",
    "\n",
    "#### Objects:\n",
    "An object is an instance of a class. It's a concrete representation of the abstract blueprint defined by the class. When you create an object, you're essentially creating a variable of the class type, and you can use it to access its attributes and methods."
   ]
  },
  {
   "cell_type": "code",
   "execution_count": 4,
   "id": "36e0f9e0",
   "metadata": {},
   "outputs": [],
   "source": [
    "class Dog:\n",
    "    def __init__(self, name, age):\n",
    "        self.name = name\n",
    "        self.age = age\n",
    "        \n",
    "    def bark(self):\n",
    "        print(f\"{self.name} says Woof!\")"
   ]
  },
  {
   "cell_type": "code",
   "execution_count": 5,
   "id": "900c754c",
   "metadata": {},
   "outputs": [
    {
     "name": "stdout",
     "output_type": "stream",
     "text": [
      "Buddy\n",
      "5\n",
      "Buddy says Woof!\n",
      "Max says Woof!\n"
     ]
    }
   ],
   "source": [
    "# Creating objects (instances) of the 'Dog' class\n",
    "dog1 = Dog(\"Buddy\", 3)\n",
    "dog2 = Dog(\"Max\", 5)\n",
    "\n",
    "# Accessing attributes\n",
    "print(dog1.name)  # Output: Buddy\n",
    "print(dog2.age)   # Output: 5\n",
    "\n",
    "# Calling methods\n",
    "dog1.bark()  # Output: Buddy says Woof!\n",
    "dog2.bark()  # Output: Max says Woof!\n"
   ]
  },
  {
   "cell_type": "markdown",
   "id": "20b5bfde",
   "metadata": {},
   "source": [
    "In this example:\n",
    "\n",
    "- The Dog class has an __init__ method that initializes the object's attributes (name and age).\n",
    "- The bark() method prints a simple message using the object's name attribute.\n",
    "- dog1 and dog2 are objects (instances) of the Dog class.\n",
    "\n",
    "When you create objects from the class:\n",
    "\n",
    "- You can access the attributes using the dot notation (object.attribute), like dog1.name.\n",
    "- You can call methods on the objects using the dot notation (object.method()), like dog2.bark().\n",
    "\n",
    "This separation between the class (blueprint) and its objects (instances) allows you to create multiple objects that share the same structure and behavior, but with different attribute values. It promotes code reusability and organization. Additionally, you can create more complex relationships between classes through concepts like inheritance and composition, which enable you to build sophisticated software systems with well-defined interactions between different classes and objects. \n",
    "\n",
    "*In short OOP allows us to more accurately capture the relationships of the real-world and embed that within our programming.*"
   ]
  },
  {
   "cell_type": "markdown",
   "id": "1098320e",
   "metadata": {},
   "source": [
    "## 2. Attributes and Properties\n",
    "\n",
    "In Object-Oriented Programming (OOP), attributes and properties are key components that define the characteristics and state of objects within a class. They represent the data that an object holds and provides a way to store and access information associated with each object. While the terms \"attributes\" and \"properties\" are often used interchangeably, let's delve into a bit more detail on these concepts:\n",
    "\n",
    "**Attributes**:\n",
    "Attributes are the data members or variables that belong to a class and define the state of an object. They represent the characteristics or qualities of the objects that the class models. For example, if you're modeling a Person class, attributes could include name, age, and gender. These attributes are defined within the class and are shared by all instances (objects) of that class."
   ]
  },
  {
   "cell_type": "code",
   "execution_count": 9,
   "id": "af0996a9",
   "metadata": {},
   "outputs": [],
   "source": [
    "class Person:\n",
    "    def __init__(self, name, age):\n",
    "        self.name = name   # 'name' is an attribute\n",
    "        self.age = age     # 'age' is an attribute"
   ]
  },
  {
   "cell_type": "code",
   "execution_count": 10,
   "id": "a648eebb",
   "metadata": {},
   "outputs": [
    {
     "name": "stdout",
     "output_type": "stream",
     "text": [
      "Alice\n",
      "30\n"
     ]
    }
   ],
   "source": [
    "person1 = Person(\"Alice\", 30)\n",
    "print(person1.name)  # Accessing the 'name' attribute\n",
    "print(person1.age)   # Accessing the 'age' attribute"
   ]
  },
  {
   "cell_type": "markdown",
   "id": "2f7b4994",
   "metadata": {},
   "source": [
    "#### Properties:\n",
    "Properties, also known as getters and setters, provide controlled access to attributes. They allow you to define methods that are used to get (access) or set (modify) the values of attributes. This provides an additional layer of control and encapsulation over the data. Properties are useful when you want to add validation or perform actions when getting or setting attribute values.\n",
    "\n",
    "The `self` variable below indicates that the method is going to effect the object itself, influencing its properties or enabling an action to be performed."
   ]
  },
  {
   "cell_type": "code",
   "execution_count": 11,
   "id": "1b954ded",
   "metadata": {},
   "outputs": [],
   "source": [
    "class Circle:\n",
    "    def __init__(self, radius):\n",
    "        self._radius = radius  # '_radius' is an attribute (conventionally marked as protected)\n",
    "\n",
    "    @property\n",
    "    def radius(self):\n",
    "        return self._radius\n",
    "\n",
    "    @radius.setter\n",
    "    def radius(self, value):\n",
    "        if value > 0:\n",
    "            self._radius = value\n",
    "        else:\n",
    "            print(\"Radius must be greater than 0.\")\n",
    "\n",
    "circle = Circle(5)\n",
    "print(circle.radius)  # Accessing the 'radius' property\n",
    "circle.radius = 8     # Setting the 'radius' property\n"
   ]
  },
  {
   "cell_type": "code",
   "execution_count": 14,
   "id": "58c8a83c",
   "metadata": {},
   "outputs": [
    {
     "name": "stdout",
     "output_type": "stream",
     "text": [
      "5\n"
     ]
    }
   ],
   "source": [
    "circle = Circle(5)\n",
    "print(circle.radius)  # Accessing the 'radius' property"
   ]
  },
  {
   "cell_type": "code",
   "execution_count": 15,
   "id": "00b8f529",
   "metadata": {},
   "outputs": [
    {
     "name": "stdout",
     "output_type": "stream",
     "text": [
      "8\n"
     ]
    }
   ],
   "source": [
    "circle.radius = 8     # Setting the 'radius' property\n",
    "print(circle.radius)  # Accessing the changed 'radius' property"
   ]
  },
  {
   "cell_type": "markdown",
   "id": "9e481a55",
   "metadata": {},
   "source": [
    "In the above example, the radius attribute is encapsulated using properties. The @property decorator creates a getter method, allowing you to access the attribute as if it were a property. The @radius.setter decorator creates a setter method, allowing you to set the attribute with validation.\n",
    "\n",
    "In summary, attributes define the data that objects store, while properties provide controlled access to these attributes. By using properties, you can add extra logic, validation, or encapsulation to attribute access and modification, enhancing the control and flexibility of your classes."
   ]
  },
  {
   "cell_type": "markdown",
   "id": "238d0910",
   "metadata": {},
   "source": [
    "## 3. Methods\n",
    "In Object-Oriented Programming (OOP), methods are functions that are defined within a class and operate on the data (attributes) of objects created from that class. Methods define the behavior of objects and allow them to perform specific actions or computations. Let's dive deeper into the concept of methods:\n",
    "\n",
    "## Methods:\n",
    "Methods are functions that are associated with a class and operate on the attributes and other methods of objects created from that class. They allow you to perform actions, calculations, or modifications related to the class's purpose. Methods define the behavior of objects and enable you to interact with and manipulate their data. In OOP, methods are an integral part of encapsulating data and behavior within a single unit.\n",
    "\n",
    "#### Instance Methods:\n",
    "Instance methods are the most common type of methods in OOP. They are defined within a class and can access and modify the attributes of the object they're called on. Instance methods are often used to perform operations specific to individual objects."
   ]
  },
  {
   "cell_type": "code",
   "execution_count": 16,
   "id": "ba84b49a",
   "metadata": {},
   "outputs": [],
   "source": [
    "class Rectangle:\n",
    "    def __init__(self, width, height):\n",
    "        self.width = width\n",
    "        self.height = height\n",
    "\n",
    "    def calculate_area(self):\n",
    "        return self.width * self.height"
   ]
  },
  {
   "cell_type": "code",
   "execution_count": 17,
   "id": "6bece626",
   "metadata": {},
   "outputs": [
    {
     "name": "stdout",
     "output_type": "stream",
     "text": [
      "The area of the rectangle is 15\n"
     ]
    }
   ],
   "source": [
    "rectangle = Rectangle(5, 3)\n",
    "area = rectangle.calculate_area()  # Calling the instance method\n",
    "print(f\"The area of the rectangle is {area}\")"
   ]
  },
  {
   "cell_type": "markdown",
   "id": "8d98fce9",
   "metadata": {},
   "source": [
    "In the example above, `calculate_area()` is an instance method. It can access the attributes `width` and `height` of the `rectangle` object it's called on."
   ]
  },
  {
   "cell_type": "markdown",
   "id": "421b2d56",
   "metadata": {},
   "source": [
    "#### Class Methods:\n",
    "Class methods are methods that are defined using the `@classmethod` decorator. They work with the class itself rather than individual instances. Class methods can be used to create utility functions that operate on **class-level** data or perform operations related to the class as a whole."
   ]
  },
  {
   "cell_type": "code",
   "execution_count": 18,
   "id": "aae81803",
   "metadata": {},
   "outputs": [],
   "source": [
    "class MathUtils:\n",
    "    @classmethod\n",
    "    def square(cls, x):\n",
    "        return x * x"
   ]
  },
  {
   "cell_type": "code",
   "execution_count": 19,
   "id": "2d87d762",
   "metadata": {},
   "outputs": [
    {
     "name": "stdout",
     "output_type": "stream",
     "text": [
      "The square of 5 is 25\n"
     ]
    }
   ],
   "source": [
    "result = MathUtils.square(5)  # Calling the class method\n",
    "print(f\"The square of 5 is {result}\")"
   ]
  },
  {
   "cell_type": "markdown",
   "id": "c20d3c42",
   "metadata": {},
   "source": [
    "In this example, square is a class method. It operates on the class MathUtils and doesn't require an instance to be created."
   ]
  },
  {
   "cell_type": "markdown",
   "id": "155ee77f",
   "metadata": {},
   "source": [
    "#### Static Methods:\n",
    "Static methods are defined using the `@staticmethod` decorator. They are similar to class methods but don't have access to class-level data or attributes. **They are often used for utility functions that don't depend on the class or its instances.**"
   ]
  },
  {
   "cell_type": "code",
   "execution_count": 20,
   "id": "9bc1ec58",
   "metadata": {},
   "outputs": [],
   "source": [
    "class StringUtils:\n",
    "    @staticmethod\n",
    "    def is_palindrome(word):\n",
    "        return word == word[::-1]"
   ]
  },
  {
   "cell_type": "code",
   "execution_count": 21,
   "id": "d0faa199",
   "metadata": {},
   "outputs": [
    {
     "name": "stdout",
     "output_type": "stream",
     "text": [
      "True\n"
     ]
    }
   ],
   "source": [
    "print(StringUtils.is_palindrome(\"radar\"))  # Calling the static method"
   ]
  },
  {
   "cell_type": "markdown",
   "id": "7d1b3a84",
   "metadata": {},
   "source": [
    "Here, is_palindrome is a static method. It doesn't require access to class or instance data and operates solely on its inputs."
   ]
  },
  {
   "cell_type": "markdown",
   "id": "6c08cc2b",
   "metadata": {},
   "source": [
    "#### Summary:\n",
    "In summary, methods in OOP are functions that define the behavior of objects. They allow you to perform actions, calculations, and modifications on the data within objects. Instance methods work with individual objects, class methods operate on the class itself, and static methods are utility functions that don't depend on class or instance data."
   ]
  },
  {
   "cell_type": "markdown",
   "id": "182b3e9d",
   "metadata": {},
   "source": [
    "## 4. Encapsulation\n",
    "Encapsulation is a fundamental concept in Object-Oriented Programming (OOP) that refers to the bundling of data (attributes) and the methods (functions) that operate on that data into a single unit, often known as a class. Encapsulation provides control over the access and modification of data by restricting direct access to the internal details of an object. This promotes data hiding, information security, and abstraction, making your code more modular and maintainable.\n",
    "\n",
    "Here's a more detailed explanation of encapsulation:\n",
    "\n",
    "#### Benefits of Encapsulation:\n",
    "\n",
    "1. **Data Protection**: Encapsulation prevents external code from directly modifying or accessing the internal state of an object. This helps ensure that data integrity is maintained and that unexpected changes don't disrupt the functioning of other parts of the program.\n",
    "\n",
    "2.    **Abstraction**: Encapsulation allows you to provide a clear interface to the outside world while hiding the internal implementation details. Users of the class only need to know how to use the provided methods, not how they are implemented.\n",
    "\n",
    "3.    **Modularity**: By encapsulating data and methods related to a specific functionality within a class, you create modular units that can be easily maintained and updated. Changes within a class are less likely to affect other parts of the program.\n",
    "\n",
    "#### Access Modifiers:\n",
    "Access modifiers are keywords used to control the visibility and accessibility of class members (attributes and methods). They enforce the level of encapsulation by specifying who can access or modify certain elements.\n",
    "\n",
    "In Python, the common access modifiers are:\n",
    "\n",
    "- **Public**: No access restrictions. Members are accessible from anywhere. \n",
    "```\n",
    "Example: class MyClass: def my_method(self): pass\n",
    "```\n",
    "\n",
    "- **Protected**: Members are accessible within the class and its subclasses. To denote protected attributes, you can use a single underscore prefix (convention). Example: \n",
    "```\n",
    "_protected_attribute\n",
    "```\n",
    "\n",
    "- **Private**: Members are only accessible within the class. To denote private attributes, you can use a double underscore prefix. However, they are not truly private; their names are \"mangled\" to make them harder to accidentally override. Example: \n",
    "```\n",
    "__private_attribute\n",
    "```"
   ]
  },
  {
   "cell_type": "code",
   "execution_count": 22,
   "id": "8f91edb7",
   "metadata": {},
   "outputs": [],
   "source": [
    "class BankAccount:\n",
    "    def __init__(self, balance):\n",
    "        self.__balance = balance  # Private attribute\n",
    "\n",
    "    def deposit(self, amount):\n",
    "        if amount > 0:\n",
    "            self.__balance += amount\n",
    "\n",
    "    def withdraw(self, amount):\n",
    "        if 0 < amount <= self.__balance:\n",
    "            self.__balance -= amount\n",
    "        else:\n",
    "            print(\"Insufficient funds\")\n",
    "\n",
    "    def get_balance(self):\n",
    "        return self.__balance"
   ]
  },
  {
   "cell_type": "code",
   "execution_count": 23,
   "id": "5d02ff4b",
   "metadata": {},
   "outputs": [
    {
     "name": "stdout",
     "output_type": "stream",
     "text": [
      "500\n"
     ]
    }
   ],
   "source": [
    "account = BankAccount(1000)\n",
    "account.withdraw(500)\n",
    "print(account.get_balance())  # Accessing private attribute through method"
   ]
  },
  {
   "cell_type": "markdown",
   "id": "bca43418",
   "metadata": {},
   "source": [
    "In the above example, the balance attribute is encapsulated as a private attribute using double underscores. Access to this attribute is only possible through the provided methods (`deposit`, `withdraw`, `get_balance`), ensuring that the balance can only be modified or accessed in a controlled manner.\n",
    "\n",
    "In summary, encapsulation in OOP involves bundling data and methods into a single unit (class) and controlling access to internal details. This promotes data security, abstraction, and modularity, making your code more organized and maintainable. Access modifiers further refine the level of encapsulation by specifying who can access class members."
   ]
  }
 ],
 "metadata": {
  "kernelspec": {
   "display_name": "Python 3 (ipykernel)",
   "language": "python",
   "name": "python3"
  },
  "language_info": {
   "codemirror_mode": {
    "name": "ipython",
    "version": 3
   },
   "file_extension": ".py",
   "mimetype": "text/x-python",
   "name": "python",
   "nbconvert_exporter": "python",
   "pygments_lexer": "ipython3",
   "version": "3.9.13"
  }
 },
 "nbformat": 4,
 "nbformat_minor": 5
}
